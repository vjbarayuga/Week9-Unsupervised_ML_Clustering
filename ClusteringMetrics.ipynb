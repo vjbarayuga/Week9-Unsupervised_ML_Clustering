{
  "nbformat": 4,
  "nbformat_minor": 0,
  "metadata": {
    "colab": {
      "name": "ClusteringMetrics.ipynb",
      "provenance": [],
      "collapsed_sections": [],
      "authorship_tag": "ABX9TyP8jZoAdMt+LzvwRBenunIE",
      "include_colab_link": true
    },
    "kernelspec": {
      "name": "python3",
      "display_name": "Python 3"
    },
    "language_info": {
      "name": "python"
    }
  },
  "cells": [
    {
      "cell_type": "markdown",
      "metadata": {
        "id": "view-in-github",
        "colab_type": "text"
      },
      "source": [
        "<a href=\"https://colab.research.google.com/github/vjbarayuga/Week9-Unsupervised_ML_Clustering/blob/main/ClusteringMetrics.ipynb\" target=\"_parent\"><img src=\"https://colab.research.google.com/assets/colab-badge.svg\" alt=\"Open In Colab\"/></a>"
      ]
    },
    {
      "cell_type": "markdown",
      "source": [
        "Preparation of the Data"
      ],
      "metadata": {
        "id": "zcYn29P92MOL"
      }
    },
    {
      "cell_type": "code",
      "source": [
        "import pandas as pd\n",
        "import seaborn as sns\n",
        "import matplotlib.pyplot as plt\n",
        "import numpy as np\n",
        "#%matplotlib inline\n",
        "import sklearn\n",
        "from sklearn.impute import SimpleImputer #Import SimpleImputer class from sklearn.impute\n",
        "from termcolor import colored as cl # text customization\n",
        "import seaborn as sb # visualization\n",
        "from mpl_toolkits.mplot3d import Axes3D # 3d plot\n",
        "from sklearn.cluster import KMeans, AgglomerativeClustering, DBSCAN\n",
        "from sklearn.metrics import silhouette_score"
      ],
      "metadata": {
        "id": "7JJxlU7r_5r-"
      },
      "execution_count": 1,
      "outputs": []
    },
    {
      "cell_type": "code",
      "execution_count": 2,
      "metadata": {
        "colab": {
          "base_uri": "https://localhost:8080/"
        },
        "id": "Zy5SUF8w2GfZ",
        "outputId": "d2c0b04b-9609-4f3a-b0d6-bea349ed1a98"
      },
      "outputs": [
        {
          "output_type": "stream",
          "name": "stdout",
          "text": [
            "Drive already mounted at /content/drive; to attempt to forcibly remount, call drive.mount(\"/content/drive\", force_remount=True).\n"
          ]
        }
      ],
      "source": [
        "# import google drive\n",
        "from google.colab import drive\n",
        "drive.mount('/content/drive')"
      ]
    },
    {
      "cell_type": "code",
      "source": [
        "\n",
        "df = pd.read_csv('/content/drive/MyDrive/Coding_DOJO-Data_Science_Bootcamp/04_AdvancedML/DATASET/cust_seg.csv')\n",
        "\n",
        "df.head()"
      ],
      "metadata": {
        "colab": {
          "base_uri": "https://localhost:8080/",
          "height": 206
        },
        "id": "0mXh7__J2eX3",
        "outputId": "f575c06b-e6e2-495a-dbdf-892e929a457b"
      },
      "execution_count": 3,
      "outputs": [
        {
          "output_type": "execute_result",
          "data": {
            "text/html": [
              "\n",
              "  <div id=\"df-d8f78059-b555-44d0-bf6f-c34c0917db18\">\n",
              "    <div class=\"colab-df-container\">\n",
              "      <div>\n",
              "<style scoped>\n",
              "    .dataframe tbody tr th:only-of-type {\n",
              "        vertical-align: middle;\n",
              "    }\n",
              "\n",
              "    .dataframe tbody tr th {\n",
              "        vertical-align: top;\n",
              "    }\n",
              "\n",
              "    .dataframe thead th {\n",
              "        text-align: right;\n",
              "    }\n",
              "</style>\n",
              "<table border=\"1\" class=\"dataframe\">\n",
              "  <thead>\n",
              "    <tr style=\"text-align: right;\">\n",
              "      <th></th>\n",
              "      <th>Unnamed: 0</th>\n",
              "      <th>Customer Id</th>\n",
              "      <th>Age</th>\n",
              "      <th>Edu</th>\n",
              "      <th>Years Employed</th>\n",
              "      <th>Income</th>\n",
              "      <th>Card Debt</th>\n",
              "      <th>Other Debt</th>\n",
              "      <th>Defaulted</th>\n",
              "      <th>DebtIncomeRatio</th>\n",
              "    </tr>\n",
              "  </thead>\n",
              "  <tbody>\n",
              "    <tr>\n",
              "      <th>0</th>\n",
              "      <td>0</td>\n",
              "      <td>1</td>\n",
              "      <td>41</td>\n",
              "      <td>2</td>\n",
              "      <td>6</td>\n",
              "      <td>19</td>\n",
              "      <td>0.124</td>\n",
              "      <td>1.073</td>\n",
              "      <td>0.0</td>\n",
              "      <td>6.3</td>\n",
              "    </tr>\n",
              "    <tr>\n",
              "      <th>1</th>\n",
              "      <td>1</td>\n",
              "      <td>2</td>\n",
              "      <td>47</td>\n",
              "      <td>1</td>\n",
              "      <td>26</td>\n",
              "      <td>100</td>\n",
              "      <td>4.582</td>\n",
              "      <td>8.218</td>\n",
              "      <td>0.0</td>\n",
              "      <td>12.8</td>\n",
              "    </tr>\n",
              "    <tr>\n",
              "      <th>2</th>\n",
              "      <td>2</td>\n",
              "      <td>3</td>\n",
              "      <td>33</td>\n",
              "      <td>2</td>\n",
              "      <td>10</td>\n",
              "      <td>57</td>\n",
              "      <td>6.111</td>\n",
              "      <td>5.802</td>\n",
              "      <td>1.0</td>\n",
              "      <td>20.9</td>\n",
              "    </tr>\n",
              "    <tr>\n",
              "      <th>3</th>\n",
              "      <td>3</td>\n",
              "      <td>4</td>\n",
              "      <td>29</td>\n",
              "      <td>2</td>\n",
              "      <td>4</td>\n",
              "      <td>19</td>\n",
              "      <td>0.681</td>\n",
              "      <td>0.516</td>\n",
              "      <td>0.0</td>\n",
              "      <td>6.3</td>\n",
              "    </tr>\n",
              "    <tr>\n",
              "      <th>4</th>\n",
              "      <td>4</td>\n",
              "      <td>5</td>\n",
              "      <td>47</td>\n",
              "      <td>1</td>\n",
              "      <td>31</td>\n",
              "      <td>253</td>\n",
              "      <td>9.308</td>\n",
              "      <td>8.908</td>\n",
              "      <td>0.0</td>\n",
              "      <td>7.2</td>\n",
              "    </tr>\n",
              "  </tbody>\n",
              "</table>\n",
              "</div>\n",
              "      <button class=\"colab-df-convert\" onclick=\"convertToInteractive('df-d8f78059-b555-44d0-bf6f-c34c0917db18')\"\n",
              "              title=\"Convert this dataframe to an interactive table.\"\n",
              "              style=\"display:none;\">\n",
              "        \n",
              "  <svg xmlns=\"http://www.w3.org/2000/svg\" height=\"24px\"viewBox=\"0 0 24 24\"\n",
              "       width=\"24px\">\n",
              "    <path d=\"M0 0h24v24H0V0z\" fill=\"none\"/>\n",
              "    <path d=\"M18.56 5.44l.94 2.06.94-2.06 2.06-.94-2.06-.94-.94-2.06-.94 2.06-2.06.94zm-11 1L8.5 8.5l.94-2.06 2.06-.94-2.06-.94L8.5 2.5l-.94 2.06-2.06.94zm10 10l.94 2.06.94-2.06 2.06-.94-2.06-.94-.94-2.06-.94 2.06-2.06.94z\"/><path d=\"M17.41 7.96l-1.37-1.37c-.4-.4-.92-.59-1.43-.59-.52 0-1.04.2-1.43.59L10.3 9.45l-7.72 7.72c-.78.78-.78 2.05 0 2.83L4 21.41c.39.39.9.59 1.41.59.51 0 1.02-.2 1.41-.59l7.78-7.78 2.81-2.81c.8-.78.8-2.07 0-2.86zM5.41 20L4 18.59l7.72-7.72 1.47 1.35L5.41 20z\"/>\n",
              "  </svg>\n",
              "      </button>\n",
              "      \n",
              "  <style>\n",
              "    .colab-df-container {\n",
              "      display:flex;\n",
              "      flex-wrap:wrap;\n",
              "      gap: 12px;\n",
              "    }\n",
              "\n",
              "    .colab-df-convert {\n",
              "      background-color: #E8F0FE;\n",
              "      border: none;\n",
              "      border-radius: 50%;\n",
              "      cursor: pointer;\n",
              "      display: none;\n",
              "      fill: #1967D2;\n",
              "      height: 32px;\n",
              "      padding: 0 0 0 0;\n",
              "      width: 32px;\n",
              "    }\n",
              "\n",
              "    .colab-df-convert:hover {\n",
              "      background-color: #E2EBFA;\n",
              "      box-shadow: 0px 1px 2px rgba(60, 64, 67, 0.3), 0px 1px 3px 1px rgba(60, 64, 67, 0.15);\n",
              "      fill: #174EA6;\n",
              "    }\n",
              "\n",
              "    [theme=dark] .colab-df-convert {\n",
              "      background-color: #3B4455;\n",
              "      fill: #D2E3FC;\n",
              "    }\n",
              "\n",
              "    [theme=dark] .colab-df-convert:hover {\n",
              "      background-color: #434B5C;\n",
              "      box-shadow: 0px 1px 3px 1px rgba(0, 0, 0, 0.15);\n",
              "      filter: drop-shadow(0px 1px 2px rgba(0, 0, 0, 0.3));\n",
              "      fill: #FFFFFF;\n",
              "    }\n",
              "  </style>\n",
              "\n",
              "      <script>\n",
              "        const buttonEl =\n",
              "          document.querySelector('#df-d8f78059-b555-44d0-bf6f-c34c0917db18 button.colab-df-convert');\n",
              "        buttonEl.style.display =\n",
              "          google.colab.kernel.accessAllowed ? 'block' : 'none';\n",
              "\n",
              "        async function convertToInteractive(key) {\n",
              "          const element = document.querySelector('#df-d8f78059-b555-44d0-bf6f-c34c0917db18');\n",
              "          const dataTable =\n",
              "            await google.colab.kernel.invokeFunction('convertToInteractive',\n",
              "                                                     [key], {});\n",
              "          if (!dataTable) return;\n",
              "\n",
              "          const docLinkHtml = 'Like what you see? Visit the ' +\n",
              "            '<a target=\"_blank\" href=https://colab.research.google.com/notebooks/data_table.ipynb>data table notebook</a>'\n",
              "            + ' to learn more about interactive tables.';\n",
              "          element.innerHTML = '';\n",
              "          dataTable['output_type'] = 'display_data';\n",
              "          await google.colab.output.renderOutput(dataTable, element);\n",
              "          const docLink = document.createElement('div');\n",
              "          docLink.innerHTML = docLinkHtml;\n",
              "          element.appendChild(docLink);\n",
              "        }\n",
              "      </script>\n",
              "    </div>\n",
              "  </div>\n",
              "  "
            ],
            "text/plain": [
              "   Unnamed: 0  Customer Id  Age  ...  Other Debt  Defaulted  DebtIncomeRatio\n",
              "0           0            1   41  ...       1.073        0.0              6.3\n",
              "1           1            2   47  ...       8.218        0.0             12.8\n",
              "2           2            3   33  ...       5.802        1.0             20.9\n",
              "3           3            4   29  ...       0.516        0.0              6.3\n",
              "4           4            5   47  ...       8.908        0.0              7.2\n",
              "\n",
              "[5 rows x 10 columns]"
            ]
          },
          "metadata": {},
          "execution_count": 3
        }
      ]
    },
    {
      "cell_type": "code",
      "source": [
        "df.info()"
      ],
      "metadata": {
        "colab": {
          "base_uri": "https://localhost:8080/"
        },
        "id": "YQSuN_AD2rP6",
        "outputId": "03e70d57-6e61-4f7e-b7f3-2330364e10a3"
      },
      "execution_count": 4,
      "outputs": [
        {
          "output_type": "stream",
          "name": "stdout",
          "text": [
            "<class 'pandas.core.frame.DataFrame'>\n",
            "RangeIndex: 850 entries, 0 to 849\n",
            "Data columns (total 10 columns):\n",
            " #   Column           Non-Null Count  Dtype  \n",
            "---  ------           --------------  -----  \n",
            " 0   Unnamed: 0       850 non-null    int64  \n",
            " 1   Customer Id      850 non-null    int64  \n",
            " 2   Age              850 non-null    int64  \n",
            " 3   Edu              850 non-null    int64  \n",
            " 4   Years Employed   850 non-null    int64  \n",
            " 5   Income           850 non-null    int64  \n",
            " 6   Card Debt        850 non-null    float64\n",
            " 7   Other Debt       850 non-null    float64\n",
            " 8   Defaulted        700 non-null    float64\n",
            " 9   DebtIncomeRatio  850 non-null    float64\n",
            "dtypes: float64(4), int64(6)\n",
            "memory usage: 66.5 KB\n"
          ]
        }
      ]
    },
    {
      "cell_type": "code",
      "source": [
        "# get column names\n",
        "column_names = df.columns\n",
        "\n",
        "# for each attributes (columns), print value counts\n",
        "for column_name in  column_names:\n",
        "    print(df[column_name].value_counts())"
      ],
      "metadata": {
        "colab": {
          "base_uri": "https://localhost:8080/"
        },
        "id": "eNl95ahS3KOp",
        "outputId": "a3b3bf91-fb82-4e01-d391-4b2d8fb91963"
      },
      "execution_count": 5,
      "outputs": [
        {
          "output_type": "stream",
          "name": "stdout",
          "text": [
            "849    1\n",
            "291    1\n",
            "289    1\n",
            "288    1\n",
            "287    1\n",
            "      ..\n",
            "563    1\n",
            "562    1\n",
            "561    1\n",
            "560    1\n",
            "0      1\n",
            "Name: Unnamed: 0, Length: 850, dtype: int64\n",
            "850    1\n",
            "292    1\n",
            "290    1\n",
            "289    1\n",
            "288    1\n",
            "      ..\n",
            "564    1\n",
            "563    1\n",
            "562    1\n",
            "561    1\n",
            "1      1\n",
            "Name: Customer Id, Length: 850, dtype: int64\n",
            "29    51\n",
            "31    42\n",
            "39    41\n",
            "35    40\n",
            "28    38\n",
            "34    38\n",
            "41    36\n",
            "27    33\n",
            "36    33\n",
            "40    32\n",
            "33    31\n",
            "37    31\n",
            "24    30\n",
            "26    30\n",
            "30    30\n",
            "32    30\n",
            "38    30\n",
            "25    25\n",
            "43    22\n",
            "47    22\n",
            "23    21\n",
            "45    21\n",
            "48    19\n",
            "46    18\n",
            "42    16\n",
            "44    15\n",
            "22    14\n",
            "21    12\n",
            "50    11\n",
            "52     9\n",
            "51     7\n",
            "53     7\n",
            "49     5\n",
            "54     4\n",
            "56     2\n",
            "55     2\n",
            "20     2\n",
            "Name: Age, dtype: int64\n",
            "1    460\n",
            "2    235\n",
            "3    101\n",
            "4     49\n",
            "5      5\n",
            "Name: Edu, dtype: int64\n",
            "0     72\n",
            "1     59\n",
            "4     57\n",
            "6     53\n",
            "9     52\n",
            "2     50\n",
            "3     50\n",
            "5     49\n",
            "7     45\n",
            "12    38\n",
            "8     38\n",
            "10    38\n",
            "16    33\n",
            "11    32\n",
            "13    32\n",
            "15    23\n",
            "18    22\n",
            "19    17\n",
            "14    16\n",
            "17    14\n",
            "22    13\n",
            "21    10\n",
            "20     7\n",
            "23     6\n",
            "24     5\n",
            "25     4\n",
            "31     3\n",
            "27     3\n",
            "30     3\n",
            "29     2\n",
            "33     2\n",
            "26     1\n",
            "28     1\n",
            "Name: Years Employed, dtype: int64\n",
            "21     28\n",
            "26     27\n",
            "25     27\n",
            "22     26\n",
            "27     25\n",
            "       ..\n",
            "123     1\n",
            "132     1\n",
            "135     1\n",
            "136     1\n",
            "13      1\n",
            "Name: Income, Length: 129, dtype: int64\n",
            "0.694    5\n",
            "0.242    4\n",
            "0.185    3\n",
            "0.025    3\n",
            "0.377    3\n",
            "        ..\n",
            "1.770    1\n",
            "1.803    1\n",
            "0.371    1\n",
            "0.277    1\n",
            "0.125    1\n",
            "Name: Card Debt, Length: 727, dtype: int64\n",
            "1.551     3\n",
            "1.073     3\n",
            "3.806     3\n",
            "0.469     3\n",
            "1.559     2\n",
            "         ..\n",
            "0.863     1\n",
            "27.034    1\n",
            "10.811    1\n",
            "1.622     1\n",
            "1.500     1\n",
            "Name: Other Debt, Length: 788, dtype: int64\n",
            "0.0    517\n",
            "1.0    183\n",
            "Name: Defaulted, dtype: int64\n",
            "5.4     12\n",
            "5.0     10\n",
            "6.7     10\n",
            "4.4     10\n",
            "4.5     10\n",
            "        ..\n",
            "25.2     1\n",
            "19.6     1\n",
            "28.2     1\n",
            "19.7     1\n",
            "22.7     1\n",
            "Name: DebtIncomeRatio, Length: 245, dtype: int64\n"
          ]
        }
      ]
    },
    {
      "cell_type": "code",
      "source": [
        "df.describe().T"
      ],
      "metadata": {
        "colab": {
          "base_uri": "https://localhost:8080/",
          "height": 363
        },
        "id": "htN4-V-o366p",
        "outputId": "f6cc8412-a65c-4986-e073-8247d345997f"
      },
      "execution_count": 6,
      "outputs": [
        {
          "output_type": "execute_result",
          "data": {
            "text/html": [
              "\n",
              "  <div id=\"df-ca3072bf-723b-4d19-ab09-c1e6a890094d\">\n",
              "    <div class=\"colab-df-container\">\n",
              "      <div>\n",
              "<style scoped>\n",
              "    .dataframe tbody tr th:only-of-type {\n",
              "        vertical-align: middle;\n",
              "    }\n",
              "\n",
              "    .dataframe tbody tr th {\n",
              "        vertical-align: top;\n",
              "    }\n",
              "\n",
              "    .dataframe thead th {\n",
              "        text-align: right;\n",
              "    }\n",
              "</style>\n",
              "<table border=\"1\" class=\"dataframe\">\n",
              "  <thead>\n",
              "    <tr style=\"text-align: right;\">\n",
              "      <th></th>\n",
              "      <th>count</th>\n",
              "      <th>mean</th>\n",
              "      <th>std</th>\n",
              "      <th>min</th>\n",
              "      <th>25%</th>\n",
              "      <th>50%</th>\n",
              "      <th>75%</th>\n",
              "      <th>max</th>\n",
              "    </tr>\n",
              "  </thead>\n",
              "  <tbody>\n",
              "    <tr>\n",
              "      <th>Unnamed: 0</th>\n",
              "      <td>850.0</td>\n",
              "      <td>424.500000</td>\n",
              "      <td>245.518160</td>\n",
              "      <td>0.000</td>\n",
              "      <td>212.25000</td>\n",
              "      <td>424.500</td>\n",
              "      <td>636.75000</td>\n",
              "      <td>849.000</td>\n",
              "    </tr>\n",
              "    <tr>\n",
              "      <th>Customer Id</th>\n",
              "      <td>850.0</td>\n",
              "      <td>425.500000</td>\n",
              "      <td>245.518160</td>\n",
              "      <td>1.000</td>\n",
              "      <td>213.25000</td>\n",
              "      <td>425.500</td>\n",
              "      <td>637.75000</td>\n",
              "      <td>850.000</td>\n",
              "    </tr>\n",
              "    <tr>\n",
              "      <th>Age</th>\n",
              "      <td>850.0</td>\n",
              "      <td>35.029412</td>\n",
              "      <td>8.041432</td>\n",
              "      <td>20.000</td>\n",
              "      <td>29.00000</td>\n",
              "      <td>34.000</td>\n",
              "      <td>41.00000</td>\n",
              "      <td>56.000</td>\n",
              "    </tr>\n",
              "    <tr>\n",
              "      <th>Edu</th>\n",
              "      <td>850.0</td>\n",
              "      <td>1.710588</td>\n",
              "      <td>0.927784</td>\n",
              "      <td>1.000</td>\n",
              "      <td>1.00000</td>\n",
              "      <td>1.000</td>\n",
              "      <td>2.00000</td>\n",
              "      <td>5.000</td>\n",
              "    </tr>\n",
              "    <tr>\n",
              "      <th>Years Employed</th>\n",
              "      <td>850.0</td>\n",
              "      <td>8.565882</td>\n",
              "      <td>6.777884</td>\n",
              "      <td>0.000</td>\n",
              "      <td>3.00000</td>\n",
              "      <td>7.000</td>\n",
              "      <td>13.00000</td>\n",
              "      <td>33.000</td>\n",
              "    </tr>\n",
              "    <tr>\n",
              "      <th>Income</th>\n",
              "      <td>850.0</td>\n",
              "      <td>46.675294</td>\n",
              "      <td>38.543054</td>\n",
              "      <td>13.000</td>\n",
              "      <td>24.00000</td>\n",
              "      <td>35.000</td>\n",
              "      <td>55.75000</td>\n",
              "      <td>446.000</td>\n",
              "    </tr>\n",
              "    <tr>\n",
              "      <th>Card Debt</th>\n",
              "      <td>850.0</td>\n",
              "      <td>1.576820</td>\n",
              "      <td>2.125843</td>\n",
              "      <td>0.012</td>\n",
              "      <td>0.38250</td>\n",
              "      <td>0.885</td>\n",
              "      <td>1.89850</td>\n",
              "      <td>20.561</td>\n",
              "    </tr>\n",
              "    <tr>\n",
              "      <th>Other Debt</th>\n",
              "      <td>850.0</td>\n",
              "      <td>3.078773</td>\n",
              "      <td>3.398799</td>\n",
              "      <td>0.046</td>\n",
              "      <td>1.04575</td>\n",
              "      <td>2.003</td>\n",
              "      <td>3.90325</td>\n",
              "      <td>35.197</td>\n",
              "    </tr>\n",
              "    <tr>\n",
              "      <th>Defaulted</th>\n",
              "      <td>700.0</td>\n",
              "      <td>0.261429</td>\n",
              "      <td>0.439727</td>\n",
              "      <td>0.000</td>\n",
              "      <td>0.00000</td>\n",
              "      <td>0.000</td>\n",
              "      <td>1.00000</td>\n",
              "      <td>1.000</td>\n",
              "    </tr>\n",
              "    <tr>\n",
              "      <th>DebtIncomeRatio</th>\n",
              "      <td>850.0</td>\n",
              "      <td>10.171647</td>\n",
              "      <td>6.719441</td>\n",
              "      <td>0.100</td>\n",
              "      <td>5.10000</td>\n",
              "      <td>8.700</td>\n",
              "      <td>13.80000</td>\n",
              "      <td>41.300</td>\n",
              "    </tr>\n",
              "  </tbody>\n",
              "</table>\n",
              "</div>\n",
              "      <button class=\"colab-df-convert\" onclick=\"convertToInteractive('df-ca3072bf-723b-4d19-ab09-c1e6a890094d')\"\n",
              "              title=\"Convert this dataframe to an interactive table.\"\n",
              "              style=\"display:none;\">\n",
              "        \n",
              "  <svg xmlns=\"http://www.w3.org/2000/svg\" height=\"24px\"viewBox=\"0 0 24 24\"\n",
              "       width=\"24px\">\n",
              "    <path d=\"M0 0h24v24H0V0z\" fill=\"none\"/>\n",
              "    <path d=\"M18.56 5.44l.94 2.06.94-2.06 2.06-.94-2.06-.94-.94-2.06-.94 2.06-2.06.94zm-11 1L8.5 8.5l.94-2.06 2.06-.94-2.06-.94L8.5 2.5l-.94 2.06-2.06.94zm10 10l.94 2.06.94-2.06 2.06-.94-2.06-.94-.94-2.06-.94 2.06-2.06.94z\"/><path d=\"M17.41 7.96l-1.37-1.37c-.4-.4-.92-.59-1.43-.59-.52 0-1.04.2-1.43.59L10.3 9.45l-7.72 7.72c-.78.78-.78 2.05 0 2.83L4 21.41c.39.39.9.59 1.41.59.51 0 1.02-.2 1.41-.59l7.78-7.78 2.81-2.81c.8-.78.8-2.07 0-2.86zM5.41 20L4 18.59l7.72-7.72 1.47 1.35L5.41 20z\"/>\n",
              "  </svg>\n",
              "      </button>\n",
              "      \n",
              "  <style>\n",
              "    .colab-df-container {\n",
              "      display:flex;\n",
              "      flex-wrap:wrap;\n",
              "      gap: 12px;\n",
              "    }\n",
              "\n",
              "    .colab-df-convert {\n",
              "      background-color: #E8F0FE;\n",
              "      border: none;\n",
              "      border-radius: 50%;\n",
              "      cursor: pointer;\n",
              "      display: none;\n",
              "      fill: #1967D2;\n",
              "      height: 32px;\n",
              "      padding: 0 0 0 0;\n",
              "      width: 32px;\n",
              "    }\n",
              "\n",
              "    .colab-df-convert:hover {\n",
              "      background-color: #E2EBFA;\n",
              "      box-shadow: 0px 1px 2px rgba(60, 64, 67, 0.3), 0px 1px 3px 1px rgba(60, 64, 67, 0.15);\n",
              "      fill: #174EA6;\n",
              "    }\n",
              "\n",
              "    [theme=dark] .colab-df-convert {\n",
              "      background-color: #3B4455;\n",
              "      fill: #D2E3FC;\n",
              "    }\n",
              "\n",
              "    [theme=dark] .colab-df-convert:hover {\n",
              "      background-color: #434B5C;\n",
              "      box-shadow: 0px 1px 3px 1px rgba(0, 0, 0, 0.15);\n",
              "      filter: drop-shadow(0px 1px 2px rgba(0, 0, 0, 0.3));\n",
              "      fill: #FFFFFF;\n",
              "    }\n",
              "  </style>\n",
              "\n",
              "      <script>\n",
              "        const buttonEl =\n",
              "          document.querySelector('#df-ca3072bf-723b-4d19-ab09-c1e6a890094d button.colab-df-convert');\n",
              "        buttonEl.style.display =\n",
              "          google.colab.kernel.accessAllowed ? 'block' : 'none';\n",
              "\n",
              "        async function convertToInteractive(key) {\n",
              "          const element = document.querySelector('#df-ca3072bf-723b-4d19-ab09-c1e6a890094d');\n",
              "          const dataTable =\n",
              "            await google.colab.kernel.invokeFunction('convertToInteractive',\n",
              "                                                     [key], {});\n",
              "          if (!dataTable) return;\n",
              "\n",
              "          const docLinkHtml = 'Like what you see? Visit the ' +\n",
              "            '<a target=\"_blank\" href=https://colab.research.google.com/notebooks/data_table.ipynb>data table notebook</a>'\n",
              "            + ' to learn more about interactive tables.';\n",
              "          element.innerHTML = '';\n",
              "          dataTable['output_type'] = 'display_data';\n",
              "          await google.colab.output.renderOutput(dataTable, element);\n",
              "          const docLink = document.createElement('div');\n",
              "          docLink.innerHTML = docLinkHtml;\n",
              "          element.appendChild(docLink);\n",
              "        }\n",
              "      </script>\n",
              "    </div>\n",
              "  </div>\n",
              "  "
            ],
            "text/plain": [
              "                 count        mean         std  ...      50%        75%      max\n",
              "Unnamed: 0       850.0  424.500000  245.518160  ...  424.500  636.75000  849.000\n",
              "Customer Id      850.0  425.500000  245.518160  ...  425.500  637.75000  850.000\n",
              "Age              850.0   35.029412    8.041432  ...   34.000   41.00000   56.000\n",
              "Edu              850.0    1.710588    0.927784  ...    1.000    2.00000    5.000\n",
              "Years Employed   850.0    8.565882    6.777884  ...    7.000   13.00000   33.000\n",
              "Income           850.0   46.675294   38.543054  ...   35.000   55.75000  446.000\n",
              "Card Debt        850.0    1.576820    2.125843  ...    0.885    1.89850   20.561\n",
              "Other Debt       850.0    3.078773    3.398799  ...    2.003    3.90325   35.197\n",
              "Defaulted        700.0    0.261429    0.439727  ...    0.000    1.00000    1.000\n",
              "DebtIncomeRatio  850.0   10.171647    6.719441  ...    8.700   13.80000   41.300\n",
              "\n",
              "[10 rows x 8 columns]"
            ]
          },
          "metadata": {},
          "execution_count": 6
        }
      ]
    },
    {
      "cell_type": "markdown",
      "source": [
        "# Check Duplicate Value in the dataset"
      ],
      "metadata": {
        "id": "UZsJ6RqL6OD5"
      }
    },
    {
      "cell_type": "code",
      "source": [
        "df.columns"
      ],
      "metadata": {
        "colab": {
          "base_uri": "https://localhost:8080/"
        },
        "id": "fRzMt2w0744f",
        "outputId": "383cec88-f4d9-43f0-92df-a7ab12275860"
      },
      "execution_count": 7,
      "outputs": [
        {
          "output_type": "execute_result",
          "data": {
            "text/plain": [
              "Index(['Unnamed: 0', 'Customer Id', 'Age', 'Edu', 'Years Employed', 'Income',\n",
              "       'Card Debt', 'Other Debt', 'Defaulted', 'DebtIncomeRatio'],\n",
              "      dtype='object')"
            ]
          },
          "metadata": {},
          "execution_count": 7
        }
      ]
    },
    {
      "cell_type": "code",
      "source": [
        "df.duplicated().sum()"
      ],
      "metadata": {
        "colab": {
          "base_uri": "https://localhost:8080/"
        },
        "id": "6JTTO8V86IQ3",
        "outputId": "c8d8ff43-e0da-4250-b785-96e6234a3f60"
      },
      "execution_count": 8,
      "outputs": [
        {
          "output_type": "execute_result",
          "data": {
            "text/plain": [
              "0"
            ]
          },
          "metadata": {},
          "execution_count": 8
        }
      ]
    },
    {
      "cell_type": "code",
      "source": [
        "df.duplicated(keep=False).sum()"
      ],
      "metadata": {
        "colab": {
          "base_uri": "https://localhost:8080/"
        },
        "id": "JhxOTu_N5xmo",
        "outputId": "2611df77-f3e7-4231-d316-9a344c2adc8a"
      },
      "execution_count": 9,
      "outputs": [
        {
          "output_type": "execute_result",
          "data": {
            "text/plain": [
              "0"
            ]
          },
          "metadata": {},
          "execution_count": 9
        }
      ]
    },
    {
      "cell_type": "code",
      "source": [
        "# print the duplicate dataset\n",
        "df.loc[df.duplicated(keep=False)]"
      ],
      "metadata": {
        "colab": {
          "base_uri": "https://localhost:8080/",
          "height": 50
        },
        "id": "v87_GDOy51P3",
        "outputId": "55121c18-c9d5-474e-e1cb-827be19ea91b"
      },
      "execution_count": 10,
      "outputs": [
        {
          "output_type": "execute_result",
          "data": {
            "text/html": [
              "\n",
              "  <div id=\"df-0cdb1381-e8dd-4ee9-9cc8-7c84a033837d\">\n",
              "    <div class=\"colab-df-container\">\n",
              "      <div>\n",
              "<style scoped>\n",
              "    .dataframe tbody tr th:only-of-type {\n",
              "        vertical-align: middle;\n",
              "    }\n",
              "\n",
              "    .dataframe tbody tr th {\n",
              "        vertical-align: top;\n",
              "    }\n",
              "\n",
              "    .dataframe thead th {\n",
              "        text-align: right;\n",
              "    }\n",
              "</style>\n",
              "<table border=\"1\" class=\"dataframe\">\n",
              "  <thead>\n",
              "    <tr style=\"text-align: right;\">\n",
              "      <th></th>\n",
              "      <th>Unnamed: 0</th>\n",
              "      <th>Customer Id</th>\n",
              "      <th>Age</th>\n",
              "      <th>Edu</th>\n",
              "      <th>Years Employed</th>\n",
              "      <th>Income</th>\n",
              "      <th>Card Debt</th>\n",
              "      <th>Other Debt</th>\n",
              "      <th>Defaulted</th>\n",
              "      <th>DebtIncomeRatio</th>\n",
              "    </tr>\n",
              "  </thead>\n",
              "  <tbody>\n",
              "  </tbody>\n",
              "</table>\n",
              "</div>\n",
              "      <button class=\"colab-df-convert\" onclick=\"convertToInteractive('df-0cdb1381-e8dd-4ee9-9cc8-7c84a033837d')\"\n",
              "              title=\"Convert this dataframe to an interactive table.\"\n",
              "              style=\"display:none;\">\n",
              "        \n",
              "  <svg xmlns=\"http://www.w3.org/2000/svg\" height=\"24px\"viewBox=\"0 0 24 24\"\n",
              "       width=\"24px\">\n",
              "    <path d=\"M0 0h24v24H0V0z\" fill=\"none\"/>\n",
              "    <path d=\"M18.56 5.44l.94 2.06.94-2.06 2.06-.94-2.06-.94-.94-2.06-.94 2.06-2.06.94zm-11 1L8.5 8.5l.94-2.06 2.06-.94-2.06-.94L8.5 2.5l-.94 2.06-2.06.94zm10 10l.94 2.06.94-2.06 2.06-.94-2.06-.94-.94-2.06-.94 2.06-2.06.94z\"/><path d=\"M17.41 7.96l-1.37-1.37c-.4-.4-.92-.59-1.43-.59-.52 0-1.04.2-1.43.59L10.3 9.45l-7.72 7.72c-.78.78-.78 2.05 0 2.83L4 21.41c.39.39.9.59 1.41.59.51 0 1.02-.2 1.41-.59l7.78-7.78 2.81-2.81c.8-.78.8-2.07 0-2.86zM5.41 20L4 18.59l7.72-7.72 1.47 1.35L5.41 20z\"/>\n",
              "  </svg>\n",
              "      </button>\n",
              "      \n",
              "  <style>\n",
              "    .colab-df-container {\n",
              "      display:flex;\n",
              "      flex-wrap:wrap;\n",
              "      gap: 12px;\n",
              "    }\n",
              "\n",
              "    .colab-df-convert {\n",
              "      background-color: #E8F0FE;\n",
              "      border: none;\n",
              "      border-radius: 50%;\n",
              "      cursor: pointer;\n",
              "      display: none;\n",
              "      fill: #1967D2;\n",
              "      height: 32px;\n",
              "      padding: 0 0 0 0;\n",
              "      width: 32px;\n",
              "    }\n",
              "\n",
              "    .colab-df-convert:hover {\n",
              "      background-color: #E2EBFA;\n",
              "      box-shadow: 0px 1px 2px rgba(60, 64, 67, 0.3), 0px 1px 3px 1px rgba(60, 64, 67, 0.15);\n",
              "      fill: #174EA6;\n",
              "    }\n",
              "\n",
              "    [theme=dark] .colab-df-convert {\n",
              "      background-color: #3B4455;\n",
              "      fill: #D2E3FC;\n",
              "    }\n",
              "\n",
              "    [theme=dark] .colab-df-convert:hover {\n",
              "      background-color: #434B5C;\n",
              "      box-shadow: 0px 1px 3px 1px rgba(0, 0, 0, 0.15);\n",
              "      filter: drop-shadow(0px 1px 2px rgba(0, 0, 0, 0.3));\n",
              "      fill: #FFFFFF;\n",
              "    }\n",
              "  </style>\n",
              "\n",
              "      <script>\n",
              "        const buttonEl =\n",
              "          document.querySelector('#df-0cdb1381-e8dd-4ee9-9cc8-7c84a033837d button.colab-df-convert');\n",
              "        buttonEl.style.display =\n",
              "          google.colab.kernel.accessAllowed ? 'block' : 'none';\n",
              "\n",
              "        async function convertToInteractive(key) {\n",
              "          const element = document.querySelector('#df-0cdb1381-e8dd-4ee9-9cc8-7c84a033837d');\n",
              "          const dataTable =\n",
              "            await google.colab.kernel.invokeFunction('convertToInteractive',\n",
              "                                                     [key], {});\n",
              "          if (!dataTable) return;\n",
              "\n",
              "          const docLinkHtml = 'Like what you see? Visit the ' +\n",
              "            '<a target=\"_blank\" href=https://colab.research.google.com/notebooks/data_table.ipynb>data table notebook</a>'\n",
              "            + ' to learn more about interactive tables.';\n",
              "          element.innerHTML = '';\n",
              "          dataTable['output_type'] = 'display_data';\n",
              "          await google.colab.output.renderOutput(dataTable, element);\n",
              "          const docLink = document.createElement('div');\n",
              "          docLink.innerHTML = docLinkHtml;\n",
              "          element.appendChild(docLink);\n",
              "        }\n",
              "      </script>\n",
              "    </div>\n",
              "  </div>\n",
              "  "
            ],
            "text/plain": [
              "Empty DataFrame\n",
              "Columns: [Unnamed: 0, Customer Id, Age, Edu, Years Employed, Income, Card Debt, Other Debt, Defaulted, DebtIncomeRatio]\n",
              "Index: []"
            ]
          },
          "metadata": {},
          "execution_count": 10
        }
      ]
    },
    {
      "cell_type": "code",
      "source": [
        "# keep : {'first', 'last', False}, default 'first'\n",
        "# Drop duplicates except for the first occurrence.\n",
        "\n",
        "#df = df.drop_duplicates(keep='first', inplace=True)\n",
        "#df"
      ],
      "metadata": {
        "id": "BM9zfHey546g"
      },
      "execution_count": 11,
      "outputs": []
    },
    {
      "cell_type": "markdown",
      "source": [
        "# Check In-consistent Values"
      ],
      "metadata": {
        "id": "87XoQZO97iAl"
      }
    },
    {
      "cell_type": "code",
      "source": [
        "df.columns"
      ],
      "metadata": {
        "colab": {
          "base_uri": "https://localhost:8080/"
        },
        "id": "Lm4wyDAV772Z",
        "outputId": "0aee52ca-cf8c-4571-e544-7432c13f19fa"
      },
      "execution_count": 12,
      "outputs": [
        {
          "output_type": "execute_result",
          "data": {
            "text/plain": [
              "Index(['Unnamed: 0', 'Customer Id', 'Age', 'Edu', 'Years Employed', 'Income',\n",
              "       'Card Debt', 'Other Debt', 'Defaulted', 'DebtIncomeRatio'],\n",
              "      dtype='object')"
            ]
          },
          "metadata": {},
          "execution_count": 12
        }
      ]
    },
    {
      "cell_type": "code",
      "source": [
        "df['Age'].unique()"
      ],
      "metadata": {
        "colab": {
          "base_uri": "https://localhost:8080/"
        },
        "id": "KQ3YwYKJ7pSf",
        "outputId": "95bf0a50-3386-40cf-ad6e-e53811e04527"
      },
      "execution_count": 13,
      "outputs": [
        {
          "output_type": "execute_result",
          "data": {
            "text/plain": [
              "array([41, 47, 33, 29, 40, 38, 42, 26, 44, 34, 24, 46, 28, 43, 36, 45, 37,\n",
              "       23, 35, 22, 39, 20, 48, 30, 56, 32, 27, 50, 31, 25, 49, 53, 52, 21,\n",
              "       51, 55, 54])"
            ]
          },
          "metadata": {},
          "execution_count": 13
        }
      ]
    },
    {
      "cell_type": "code",
      "source": [
        "df['Years Employed'].unique()"
      ],
      "metadata": {
        "colab": {
          "base_uri": "https://localhost:8080/"
        },
        "id": "L3xPwZO-7_y3",
        "outputId": "c1dca3d5-38fc-4a2a-ce07-0ba957b09af0"
      },
      "execution_count": 14,
      "outputs": [
        {
          "output_type": "execute_result",
          "data": {
            "text/plain": [
              "array([ 6, 26, 10,  4, 31, 23,  0,  5,  8,  9,  7,  2,  1, 18, 16, 19, 13,\n",
              "       12, 17,  3, 22, 11, 21, 20, 14, 24, 15, 29, 27, 25, 30, 28, 33])"
            ]
          },
          "metadata": {},
          "execution_count": 14
        }
      ]
    },
    {
      "cell_type": "code",
      "source": [
        "df['Income'].unique()"
      ],
      "metadata": {
        "colab": {
          "base_uri": "https://localhost:8080/"
        },
        "id": "TSwGfeeD8T2Q",
        "outputId": "7f938cd6-daea-442a-b4c8-d68f3d3bc3ca"
      },
      "execution_count": 15,
      "outputs": [
        {
          "output_type": "execute_result",
          "data": {
            "text/plain": [
              "array([ 19, 100,  57, 253,  81,  56,  64,  18, 115,  88,  40,  30,  20,\n",
              "        16,  17,  26,  61,  32,  25,  43,  47,  77, 123,  66,  21,  38,\n",
              "        59,  45,  55,  42,  28,  37, 126,  14, 113,  34, 177,  27,  84,\n",
              "        33,  70,  36,  60,  67,  74,  44,  79,  23,  75,  98, 145,  68,\n",
              "        65, 157,  51,  15,  31,  49,  48,  22,  50,  54,  82,  53,  39,\n",
              "        46,  63,  72,  29,  86,  35,  41,  58, 101,  24,  89, 129,  73,\n",
              "       221, 242,  95,  78, 116, 102,  52,  83, 169,  69,  13,  92, 150,\n",
              "       120,  91,  62,  94, 105, 136, 186, 144, 132,  97,  71, 249, 166,\n",
              "       176,  96, 108, 107, 446,  93,  99, 266, 159, 254, 220, 140, 110,\n",
              "        80, 190,  76, 138, 114, 234, 121, 118, 135, 148, 139, 324])"
            ]
          },
          "metadata": {},
          "execution_count": 15
        }
      ]
    },
    {
      "cell_type": "code",
      "source": [
        "df['Card Debt'].unique()"
      ],
      "metadata": {
        "colab": {
          "base_uri": "https://localhost:8080/"
        },
        "id": "2y_mDPW28UPX",
        "outputId": "dd140277-25f4-4811-ac70-0680f795c495"
      },
      "execution_count": 16,
      "outputs": [
        {
          "output_type": "execute_result",
          "data": {
            "text/plain": [
              "array([1.2400e-01, 4.5820e+00, 6.1110e+00, 6.8100e-01, 9.3080e+00,\n",
              "       9.9800e-01, 4.4200e-01, 2.7900e-01, 5.7500e-01, 6.5300e-01,\n",
              "       2.8500e-01, 3.7400e-01, 5.2600e-01, 1.4150e+00, 2.3300e-01,\n",
              "       1.8500e-01, 1.3200e-01, 1.5190e+00, 2.8060e+00, 5.4400e-01,\n",
              "       5.8500e-01, 9.6100e-01, 5.5740e+00, 2.3030e+00, 3.0220e+00,\n",
              "       2.3410e+00, 9.9000e-02, 2.5910e+00, 4.0800e-01, 1.1180e+00,\n",
              "       1.4850e+00, 2.5330e+00, 1.0190e+00, 1.2630e+00, 1.8540e+00,\n",
              "       1.0290e+00, 5.8100e-01, 1.5840e+00, 2.7000e-01, 1.4050e+00,\n",
              "       2.0100e-01, 3.3760e+00, 3.0990e+00, 8.8800e-01, 1.4030e+00,\n",
              "       1.2760e+00, 2.2500e-01, 2.2900e-01, 2.6100e-01, 7.9800e-01,\n",
              "       1.5060e+00, 1.2660e+00, 1.3580e+00, 8.4700e-01, 3.1760e+00,\n",
              "       5.7300e-01, 3.1500e-01, 7.2200e-01, 7.9000e-01, 8.3500e-01,\n",
              "       2.4500e+00, 2.1000e+00, 5.2450e+00, 4.5220e+00, 3.2400e-01,\n",
              "       1.7210e+00, 1.7350e+00, 2.4720e+00, 8.3200e-01, 8.3800e-01,\n",
              "       5.5000e-01, 8.8500e-01, 2.9350e+00, 3.3660e+00, 6.9400e-01,\n",
              "       9.8500e-01, 6.7700e-01, 3.7000e-01, 3.2370e+00, 4.1900e-01,\n",
              "       1.3660e+00, 3.9000e+00, 3.3260e+00, 8.9100e-01, 5.4300e-01,\n",
              "       3.8600e-01, 1.4910e+00, 4.3300e-01, 1.4920e+00, 8.1800e-01,\n",
              "       6.3300e-01, 1.0300e-01, 2.7700e-01, 5.6900e-01, 1.2500e-01,\n",
              "       2.5400e-01, 3.6000e-02, 2.5940e+00, 2.1900e-01, 1.1650e+00,\n",
              "       7.6130e+00, 1.0560e+00, 1.9700e+00, 1.0860e+00, 7.2000e-02,\n",
              "       1.2000e-01, 1.3150e+00, 1.8880e+00, 2.1400e+00, 2.0560e+00,\n",
              "       1.0090e+00, 8.6100e-01, 1.4300e+00, 2.2700e-01, 2.4000e+00,\n",
              "       5.5500e+00, 3.6900e-01, 1.1240e+00, 4.9600e-01, 1.5400e+00,\n",
              "       8.2800e-01, 4.2900e-01, 3.3900e-01, 1.0230e+00, 1.8300e-01,\n",
              "       1.7900e-01, 1.1430e+00, 2.3320e+00, 3.2600e-01, 1.0700e+00,\n",
              "       1.8440e+00, 1.4600e-01, 1.1850e+00, 3.5800e-01, 2.9180e+00,\n",
              "       4.5500e-01, 4.4400e-01, 7.6200e-01, 7.8170e+00, 1.5220e+00,\n",
              "       2.8680e+00, 3.0420e+00, 7.0000e-02, 1.9900e-01, 1.3320e+00,\n",
              "       6.8000e-02, 2.1080e+00, 4.2130e+00, 9.8700e-01, 2.9920e+00,\n",
              "       1.3380e+00, 3.1100e+00, 3.2500e-01, 2.8010e+00, 4.6800e-01,\n",
              "       2.8640e+00, 6.5000e-01, 2.5000e-02, 4.0200e-01, 7.4000e-02,\n",
              "       3.1100e-01, 9.7500e-01, 5.0020e+00, 1.1100e-01, 1.2200e-01,\n",
              "       2.9200e-01, 2.3800e-01, 2.7540e+00, 8.5600e-01, 2.0900e-01,\n",
              "       3.4910e+00, 3.9700e-01, 4.0040e+00, 1.8100e-01, 5.2000e-01,\n",
              "       2.0561e+01, 1.9610e+00, 6.0490e+00, 7.6400e-01, 6.0200e-01,\n",
              "       8.9900e-01, 5.5600e-01, 3.7440e+00, 2.2120e+00, 2.2000e-02,\n",
              "       1.1800e-01, 1.0330e+00, 1.5260e+00, 1.5000e-01, 3.9300e+00,\n",
              "       1.5792e+01, 2.3810e+00, 6.1200e-01, 1.9770e+00, 2.7600e-01,\n",
              "       4.1600e-01, 4.9600e+00, 3.1000e-02, 1.6360e+00, 3.2000e-01,\n",
              "       1.4100e-01, 2.6400e-01, 1.3570e+00, 5.6500e-01, 6.6700e-01,\n",
              "       1.0110e+00, 1.0170e+00, 7.7540e+00, 9.2000e-01, 3.2100e-01,\n",
              "       4.8800e-01, 2.5610e+00, 7.2900e-01, 5.7820e+00, 1.5600e-01,\n",
              "       3.0320e+00, 1.1380e+00, 4.6370e+00, 1.3750e+00, 6.5890e+00,\n",
              "       3.0000e-02, 3.4400e-01, 2.6860e+00, 2.6200e-01, 2.9100e-01,\n",
              "       6.8600e-01, 8.8100e-01, 1.2600e-01, 7.5100e-01, 3.4900e-01,\n",
              "       4.1100e-01, 4.5930e+00, 1.0400e+00, 3.7700e-01, 6.1300e-01,\n",
              "       2.0500e-01, 1.4020e+00, 2.6050e+00, 5.8970e+00, 7.7400e-01,\n",
              "       4.6000e-02, 1.4210e+00, 4.0900e-01, 6.5060e+00, 3.1960e+00,\n",
              "       2.5900e-01, 9.5100e-01, 5.6300e-01, 1.2490e+00, 5.0910e+00,\n",
              "       1.2900e-01, 5.9100e-01, 3.8200e-01, 5.7200e-01, 1.5650e+00,\n",
              "       3.9300e-01, 1.7870e+00, 1.7510e+00, 2.2600e-01, 1.3000e-01,\n",
              "       1.3553e+01, 2.6590e+00, 2.5600e-01, 3.7040e+00, 4.1700e-01,\n",
              "       5.5010e+00, 3.3800e-01, 3.4100e-01, 4.5840e+00, 5.0000e-01,\n",
              "       5.5500e-01, 7.7000e-02, 4.3730e+00, 1.1390e+00, 1.5500e-01,\n",
              "       1.3300e-01, 2.8690e+00, 8.9500e-01, 3.0200e-01, 1.0410e+00,\n",
              "       1.7390e+00, 1.1860e+00, 2.0130e+00, 3.0650e+00, 1.8030e+00,\n",
              "       2.6600e-01, 3.3300e-01, 7.4600e-01, 1.0920e+00, 1.4700e-01,\n",
              "       9.1600e-01, 1.4200e-01, 7.2400e-01, 1.0890e+00, 8.9800e-01,\n",
              "       2.3160e+00, 1.1300e-01, 3.6120e+00, 2.4200e-01, 8.4000e-02,\n",
              "       8.6400e-01, 5.1400e-01, 4.5000e-01, 1.4180e+00, 1.9300e+00,\n",
              "       1.8080e+00, 3.1920e+00, 7.7600e-01, 1.9860e+00, 4.3700e-01,\n",
              "       8.0200e-01, 1.2000e-02, 4.3340e+00, 1.0840e+00, 1.3330e+00,\n",
              "       2.3900e-01, 3.7900e-01, 3.1330e+00, 9.4100e-01, 5.7400e-01,\n",
              "       2.2070e+00, 7.7800e-01, 1.4231e+01, 3.1200e-01, 9.3000e-02,\n",
              "       6.9000e-02, 5.4600e-01, 6.2270e+00, 3.8500e-01, 1.5900e-01,\n",
              "       2.4040e+00, 1.7400e-01, 1.0800e-01, 5.9000e-01, 2.2230e+00,\n",
              "       8.7100e-01, 4.4800e-01, 4.7700e-01, 4.1400e+00, 7.2700e-01,\n",
              "       4.7200e-01, 1.6330e+00, 1.1820e+00, 5.9400e-01, 8.9400e-01,\n",
              "       2.7780e+00, 3.6460e+00, 2.9600e-01, 1.4720e+00, 1.0500e-01,\n",
              "       4.4000e-02, 3.3250e+00, 4.9100e-01, 7.8200e-01, 4.9200e-01,\n",
              "       6.2400e-01, 1.2450e+00, 5.4400e+00, 1.4000e-01, 2.9960e+00,\n",
              "       4.0300e-01, 1.8670e+00, 1.2420e+00, 2.5580e+00, 1.1780e+00,\n",
              "       6.1700e-01, 2.1730e+00, 3.3600e-01, 5.8300e-01, 1.1770e+00,\n",
              "       2.5400e+00, 1.1950e+00, 1.5510e+00, 1.8270e+00, 7.3900e-01,\n",
              "       1.6320e+00, 3.7030e+00, 1.9160e+00, 7.8100e-01, 1.3490e+00,\n",
              "       1.8010e+00, 2.4120e+00, 1.4400e-01, 8.4000e-01, 5.7150e+00,\n",
              "       9.1500e-01, 1.0679e+01, 5.4800e-01, 5.3000e-02, 1.5580e+00,\n",
              "       1.3830e+00, 2.8700e-01, 4.1600e+00, 1.2340e+00, 1.1900e-01,\n",
              "       4.7800e-01, 6.5660e+00, 5.7000e-01, 2.9500e-01, 2.1700e-01,\n",
              "       4.4050e+00, 9.6700e-01, 7.1000e-02, 6.7600e-01, 4.2730e+00,\n",
              "       2.1260e+00, 2.7080e+00, 2.7300e-01, 1.5000e+00, 5.8800e-01,\n",
              "       2.2800e-01, 4.9910e+00, 1.5300e+00, 1.8700e-01, 8.2100e-01,\n",
              "       3.2900e-01, 2.0440e+00, 1.0580e+00, 5.5100e-01, 1.6070e+00,\n",
              "       4.5900e-01, 1.1359e+01, 1.0850e+00, 1.7160e+00, 8.5000e-01,\n",
              "       8.0400e-01, 4.9360e+00, 1.2560e+00, 1.4860e+00, 2.5160e+00,\n",
              "       2.2540e+00, 3.7300e-01, 6.2200e-01, 7.7700e-01, 9.2700e-01,\n",
              "       2.6820e+00, 1.9020e+00, 2.6940e+00, 2.1570e+00, 8.0600e-01,\n",
              "       1.0600e+00, 1.2140e+00, 5.0600e+00, 2.2620e+00, 2.7720e+00,\n",
              "       9.3600e-01, 9.6500e-01, 3.5200e-01, 1.5017e+01, 1.5970e+00,\n",
              "       1.1600e+00, 2.1480e+00, 5.2510e+00, 1.6380e+00, 2.8300e-01,\n",
              "       7.7300e-01, 4.2200e-01, 2.1240e+00, 1.5070e+00, 2.3300e+00,\n",
              "       6.3600e-01, 1.3700e+00, 1.4596e+01, 1.9000e-01, 1.6170e+00,\n",
              "       1.2740e+00, 7.3000e-02, 4.6380e+00, 4.0390e+00, 1.6010e+00,\n",
              "       5.6600e-01, 1.9390e+00, 8.5300e-01, 3.4500e-01, 1.2010e+00,\n",
              "       1.9810e+00, 5.2100e-01, 8.6700e-01, 2.0570e+00, 1.6031e+01,\n",
              "       9.5420e+00, 4.8000e-02, 2.7930e+00, 2.2400e+00, 2.9000e-02,\n",
              "       2.8400e-01, 2.4580e+00, 5.3500e-01, 8.7000e-01, 8.2700e-01,\n",
              "       2.0700e-01, 3.7390e+00, 2.1920e+00, 1.7700e+00, 1.0680e+00,\n",
              "       1.0470e+00, 1.3170e+00, 7.0020e+00, 1.5000e-02, 1.0060e+00,\n",
              "       6.0800e-01, 1.2620e+00, 1.1550e+00, 1.4100e+00, 5.4900e-01,\n",
              "       1.4740e+00, 3.1530e+00, 2.5200e-01, 3.8340e+00, 3.1900e-01,\n",
              "       1.3400e-01, 8.1660e+00, 1.0250e+00, 1.2100e+00, 4.2000e-01,\n",
              "       1.4250e+00, 1.1100e+00, 5.3800e-01, 2.0160e+00, 9.5930e+00,\n",
              "       8.3000e-02, 5.6100e-01, 6.0600e-01, 1.9820e+00, 2.7390e+00,\n",
              "       8.5400e-01, 1.4500e+00, 1.0710e+00, 1.4760e+00, 2.1340e+00,\n",
              "       4.5140e+00, 2.2840e+00, 1.1040e+00, 8.7800e-01, 6.6000e-02,\n",
              "       1.3430e+00, 4.3200e-01, 1.8750e+00, 5.8700e-01, 7.7590e+00,\n",
              "       9.3000e-01, 1.5590e+00, 2.7820e+00, 1.0650e+00, 3.6400e-01,\n",
              "       6.7400e-01, 3.1000e-01, 2.6300e-01, 1.2700e-01, 1.8060e+00,\n",
              "       2.5410e+00, 1.4580e+00, 2.9800e-01, 9.8770e+00, 1.2750e+00,\n",
              "       1.2090e+00, 1.5700e-01, 2.6970e+00, 2.1000e-01, 1.6410e+00,\n",
              "       4.1840e+00, 2.0120e+00, 8.1500e-01, 1.4680e+00, 9.3200e-01,\n",
              "       5.8210e+00, 7.2100e-01, 1.8990e+00, 2.4790e+00, 6.8200e-01,\n",
              "       2.8800e-01, 3.5900e-01, 3.1570e+00, 1.2100e-01, 9.9500e-01,\n",
              "       4.7650e+00, 1.2220e+00, 1.0390e+00, 5.3400e-01, 8.5100e-01,\n",
              "       1.0240e+00, 1.6140e+00, 1.6630e+00, 1.1000e-01, 7.3200e+00,\n",
              "       1.3290e+00, 5.3000e-01, 4.5300e-01, 1.1000e+00, 3.2950e+00,\n",
              "       1.1680e+00, 8.9000e-02, 1.7850e+00, 1.0700e-01, 2.5020e+00,\n",
              "       3.9900e-01, 7.3870e+00, 3.5000e-01, 1.2710e+00, 1.3650e+00,\n",
              "       8.8300e-01, 9.2600e-01, 1.3620e+00, 7.9500e-01, 2.9950e+00,\n",
              "       4.7000e-01, 2.8520e+00, 1.7340e+00, 8.3300e-01, 3.5300e-01,\n",
              "       7.0700e-01, 4.4300e-01, 5.6700e-01, 3.9100e-01, 5.5300e-01,\n",
              "       4.6730e+00, 2.3700e-01, 1.1700e+00, 1.9850e+00, 9.6600e-01,\n",
              "       3.7100e-01, 1.7020e+00, 8.0500e-01, 3.7520e+00, 2.0490e+00,\n",
              "       9.1000e-02, 3.7270e+00, 1.3770e+00, 4.8750e+00, 2.8570e+00,\n",
              "       9.6000e+00, 3.5500e-01, 5.2830e+00, 3.9800e-01, 1.2770e+00,\n",
              "       4.3100e-01, 6.9360e+00, 1.2950e+00, 1.7500e-01, 1.6290e+00,\n",
              "       5.0600e-01, 1.0440e+00, 3.9750e+00, 5.2500e-01, 1.7010e+00,\n",
              "       1.6020e+00, 3.9550e+00, 5.1100e-01, 8.6000e-02, 2.2880e+00,\n",
              "       8.0900e-01, 2.1600e+00, 1.3010e+00, 4.8810e+00, 9.1200e-01,\n",
              "       3.3410e+00, 9.5000e-01, 5.5900e-01, 7.6900e-01, 1.8960e+00,\n",
              "       1.3100e-01, 6.4100e-01, 7.0900e-01, 7.0600e-01, 5.2800e-01,\n",
              "       1.0540e+00, 2.5270e+00, 5.4020e+00, 3.0840e+00, 3.0400e-01,\n",
              "       1.0610e+00, 1.6180e+00, 6.5100e-01, 1.9760e+00, 2.1510e+00,\n",
              "       3.6700e-01, 1.5770e+00, 1.8000e-01, 4.4600e-01, 9.7030e+00,\n",
              "       4.5600e-01, 2.6630e+00, 2.4100e-01, 2.1800e-01, 1.8970e+00,\n",
              "       6.9490e+00, 3.6800e-01, 2.1050e+00, 1.6460e+00, 1.0660e+00,\n",
              "       7.0530e+00, 3.7410e+00, 6.9120e+00, 4.4700e-01, 1.9690e+00,\n",
              "       1.3270e+00, 1.7100e-01, 1.4970e+00, 1.1630e+00, 2.4370e+00,\n",
              "       1.8870e+00, 5.9600e-01, 4.2000e-02, 6.3100e-01, 2.7800e-01,\n",
              "       2.4900e-01, 2.3830e+00, 1.6950e+00, 1.4190e+00, 1.4730e+00,\n",
              "       4.0270e+00, 6.1140e+00, 1.8520e+00, 8.3400e-01, 2.7140e+00,\n",
              "       4.0100e-01, 2.6490e+00, 3.8400e-01, 2.3670e+00, 5.5200e-01,\n",
              "       8.4900e-01, 1.3060e+00, 3.4300e-01, 9.8200e-01, 2.8020e+00,\n",
              "       1.1600e-01, 1.8660e+00])"
            ]
          },
          "metadata": {},
          "execution_count": 16
        }
      ]
    },
    {
      "cell_type": "code",
      "source": [
        "df['Other Debt'].unique()"
      ],
      "metadata": {
        "colab": {
          "base_uri": "https://localhost:8080/"
        },
        "id": "5Oxniaq78Ucn",
        "outputId": "03d06ba7-1d47-437d-9f5f-b7d4cc982ce5"
      },
      "execution_count": 17,
      "outputs": [
        {
          "output_type": "execute_result",
          "data": {
            "text/plain": [
              "array([ 1.073,  8.218,  5.802,  0.516,  8.908,  7.831,  0.454,  3.945,\n",
              "        2.215,  3.947,  5.083,  0.266,  0.643,  3.865,  1.647,  1.287,\n",
              "        0.293,  1.237,  3.782,  2.944,  0.465,  4.629,  3.732,  4.165,\n",
              "       18.257,  3.467,  0.447,  2.539,  1.008,  3.427,  1.015,  5.717,\n",
              "        0.619,  1.537,  1.611,  2.079,  1.417,  0.738,  0.522,  7.163,\n",
              "        1.157, 10.184,  4.993,  9.555,  4.348,  9.728,  2.225,  0.506,\n",
              "        0.518,  2.984,  2.949,  9.459,  3.278,  1.331, 10.754,  2.577,\n",
              "        0.645,  0.838,  3.434,  0.893,  5.77 ,  3.136,  2.259,  5.394,\n",
              "        0.416,  1.799,  1.425,  0.363,  2.549,  1.416,  1.158,  0.54 ,\n",
              "        4.121,  3.144,  0.89 ,  1.337,  0.808,  1.289, 14.453,  2.001,\n",
              "        5.978, 15.405,  7.036,  2.931,  7.107,  0.424,  1.559,  1.247,\n",
              "        1.05 ,  5.07 ,  1.992,  0.821,  0.248,  3.151,  0.469,  0.187,\n",
              "        2.119,  0.372,  1.55 ,  0.721,  7.217,  9.649,  2.184,  2.35 ,\n",
              "        1.818, 11.874,  0.856,  2.869,  1.5  ,  1.391,  1.133,  3.492,\n",
              "        1.649,  1.551,  1.393,  0.682,  1.699,  1.326,  5.916,  1.017,\n",
              "        2.046,  1.947,  1.264,  1.267,  2.282,  2.772,  0.464,  0.386,\n",
              "        3.135,  0.089,  1.045,  4.842,  0.543,  0.709,  2.405,  1.346,\n",
              "        0.886,  0.905,  2.649,  4.156,  3.806,  1.372,  4.276,  1.998,\n",
              "        9.251,  4.448,  3.106,  2.634,  1.556,  1.1  ,  0.763,  9.009,\n",
              "        3.166,  1.922,  2.151,  1.951,  2.664,  2.766,  5.504,  0.495,\n",
              "        4.687,  0.188,  1.88 ,  0.487,  1.11 ,  0.169,  0.337,  3.435,\n",
              "        7.725,  2.349,  0.606,  4.658,  1.112,  5.049,  2.169,  0.913,\n",
              "        0.973,  3.786,  3.356,  2.699,  0.803, 12.076,  1.984,  5.651,\n",
              "        0.916,  1.534,  4.39 ,  0.247,  1.737,  5.138,  0.053,  0.161,\n",
              "        1.449,  1.654,  0.938,  2.47 , 23.104,  0.343,  8.015,  0.354,\n",
              "        1.473,  0.564,  0.286,  0.848,  0.775,  4.656,  2.787,  0.991,\n",
              "        2.134,  1.778,  0.215,  1.877,  1.837,  7.823,  7.158,  4.525,\n",
              "        0.939,  2.137,  4.399,  1.138,  1.014,  0.902,  8.6  ,  2.324,\n",
              "        5.729,  3.676,  1.517,  3.622,  4.827,  0.53 ,  5.031,  0.168,\n",
              "        4.016,  2.094,  9.044,  1.234,  2.873,  0.562,  1.63 ,  1.378,\n",
              "        1.095,  3.369,  4.005,  1.941,  2.785,  2.847,  1.547,  1.303,\n",
              "        3.449,  1.003,  4.394,  2.424,  1.317,  0.357,  1.178,  5.454,\n",
              "        4.58 ,  0.941,  9.737,  2.637,  3.351,  1.803,  1.239,  2.409,\n",
              "        0.818,  0.588,  2.007,  2.157,  0.226,  3.057,  7.324,  2.244,\n",
              "        2.434,  0.182, 35.197,  1.214,  5.396,  1.455,  2.661,  1.708,\n",
              "        4.986,  1.595,  0.13 ,  5.26 ,  1.258,  1.171,  1.683,  2.305,\n",
              "        2.757, 11.894,  2.095,  2.817,  1.041,  1.263,  1.869,  4.084,\n",
              "        6.447,  2.103,  5.077,  3.383,  3.251,  1.124,  1.02 ,  0.243,\n",
              "        0.749,  0.708,  1.166,  2.367,  1.142,  0.965, 20.616,  1.897,\n",
              "        6.258,  0.885,  0.108,  2.552,  2.888,  0.468,  0.577,  4.358,\n",
              "        2.912, 11.724,  1.618,  1.796,  1.913,  0.26 ,  4.066,  4.028,\n",
              "        1.131,  0.521,  0.625,  3.001, 11.042,  0.945,  2.518,  0.101,\n",
              "        1.631, 17.185,  0.471,  1.167,  1.24 ,  0.552,  1.17 , 13.051,\n",
              "        3.126,  1.089,  2.955,  4.292,  4.166,  0.984,  1.324,  1.719,\n",
              "        1.561,  3.224,  3.429,  4.98 ,  0.868,  2.723,  4.29 ,  1.134,\n",
              "        3.666,  2.147,  2.864,  2.903,  0.748,  1.153,  1.438,  0.595,\n",
              "        0.347,  2.734, 12.659,  5.143,  1.068,  0.649,  1.339,  8.126,\n",
              "        9.591,  1.995,  2.357,  0.598,  1.402,  1.292,  0.671,  2.411,\n",
              "        0.5  ,  2.53 ,  1.721,  2.348,  7.912,  1.148,  7.68 ,  3.993,\n",
              "        1.03 ,  1.048,  3.019,  4.261,  2.369,  2.221,  8.387,  1.823,\n",
              "        8.502,  4.725,  4.365,  1.479,  9.061,  5.542,  1.281,  2.586,\n",
              "        4.355,  0.492,  6.24 ,  4.846,  1.246,  0.908,  4.581,  0.88 ,\n",
              "        0.164,  0.863,  7.763,  1.885,  0.677,  2.469,  2.128, 15.149,\n",
              "        4.144,  5.65 ,  0.364,  4.224,  1.82 ,  1.284, 17.799,  2.653,\n",
              "        0.472,  1.325, 18.269,  2.581,  2.665,  1.574,  1.583,  7.574,\n",
              "        1.452,  5.009,  3.011,  1.202,  3.083,  1.373,  2.076,  4.799,\n",
              "        9.391,  3.518,  1.67 ,  5.234,  0.192,  4.562,  0.789,  0.993,\n",
              "        3.387,  5.274,  2.619,  2.055,  2.356,  1.464,  0.943,  6.186,\n",
              "        6.44 ,  2.638,  1.001,  2.182, 12.714,  9.018,  0.687,  2.031,\n",
              "        2.582, 14.719,  2.915,  0.823,  1.282,  1.709,  7.493,  4.889,\n",
              "        1.485,  3.055,  1.146,  5.891,  2.437,  3.818,  1.702,  3.316,\n",
              "        2.404, 17.204,  1.771,  1.962,  1.622,  5.064,  8.201,  3.054,\n",
              "        0.644,  0.725,  3.382,  0.727,  0.999,  2.927,  2.627,  2.42 ,\n",
              "        1.005,  5.29 , 12.959,  4.129,  0.624,  2.7  ,  1.285,  1.44 ,\n",
              "        3.657,  2.516,  0.199,  0.956,  1.481,  2.615,  0.197,  3.396,\n",
              "        1.982,  1.45 ,  8.399,  3.128,  0.73 ,  3.384,  2.565,  1.392,\n",
              "       12.556,  0.63 ,  2.954,  0.421,  1.084,  0.509,  2.132,  7.746,\n",
              "        0.801,  2.174,  5.037,  0.944, 16.668,  0.761,  5.032, 27.034,\n",
              "        2.571,  0.554,  4.044,  5.593,  2.691,  1.634,  3.584,  6.667,\n",
              "        0.566,  3.099,  1.739,  1.374,  7.549,  4.911,  0.33 ,  0.74 ,\n",
              "        8.15 ,  1.809,  9.704,  0.462,  2.506,  7.04 ,  1.035,  0.274,\n",
              "        0.15 ,  2.172,  1.143,  3.021,  1.429,  9.716,  1.774,  9.499,\n",
              "        1.684,  2.154,  3.539,  2.258,  0.784,  0.86 ,  0.377,  5.96 ,\n",
              "        4.644,  5.817,  0.752,  1.65 ,  2.014,  1.33 ,  3.785,  0.982,\n",
              "        3.575,  0.046,  4.695, 15.276,  1.524,  2.321,  1.876,  8.039,\n",
              "        1.545,  2.721,  7.281,  2.09 ,  5.479,  1.055,  0.458, 11.663,\n",
              "        1.319,  4.857,  5.707,  4.436,  0.474,  1.359,  0.754,  1.16 ,\n",
              "       12.422,  6.218,  0.156,  0.254, 10.98 ,  5.251,  1.218,  2.168,\n",
              "        2.519,  6.395,  2.448,  1.66 ,  4.047,  0.897,  2.844, 10.631,\n",
              "        1.333,  2.386,  1.224,  2.87 ,  4.001,  2.901,  3.473,  1.06 ,\n",
              "        5.158,  3.248,  0.395,  2.481,  3.916,  1.123,  0.867,  0.365,\n",
              "        2.107,  4.177,  1.314,  9.975,  1.194,  2.567,  0.891,  4.577,\n",
              "        1.163,  0.609,  0.731,  2.672,  1.371,  0.208,  6.712,  1.731,\n",
              "        8.159,  0.827, 10.811,  7.392,  1.039,  0.811,  1.302,  4.663,\n",
              "        0.353,  6.558,  3.985,  0.921,  5.059,  6.306,  6.681,  0.839,\n",
              "        1.926,  0.414,  2.454,  5.67 ,  3.845,  3.089,  5.496,  2.914,\n",
              "        1.991,  1.69 ,  1.848,  0.729,  1.488,  1.121,  4.051,  1.61 ,\n",
              "        1.541,  2.674,  6.623,  2.152,  2.209,  1.725,  1.487,  3.11 ,\n",
              "        2.108,  0.995,  5.297,  4.926,  9.198,  7.588,  1.736,  3.982,\n",
              "        1.269,  1.944,  2.485,  0.383,  1.883,  1.687,  0.301,  6.022,\n",
              "        5.134, 10.385,  2.561,  3.439,  4.027,  1.626,  2.005,  8.631,\n",
              "        1.071,  0.556,  1.511,  1.   ,  2.015,  2.314, 15.627,  5.103,\n",
              "        4.512,  0.613,  1.307,  0.579,  0.476,  4.589,  2.422,  3.059,\n",
              "        0.594,  3.287,  2.833,  6.863,  2.502,  1.279,  1.23 ,  0.198,\n",
              "        1.565,  0.777,  1.09 ,  0.98 ,  0.739,  1.957,  2.265,  2.989,\n",
              "        7.286,  0.315,  1.756,  3.519,  2.585,  9.286,  1.866,  0.894,\n",
              "        0.831,  8.362,  1.741,  3.973,  4.446,  2.712,  5.628,  0.96 ,\n",
              "        2.319,  1.104,  1.082,  2.893,  0.591,  0.683,  1.198,  1.22 ,\n",
              "        2.021,  3.21 ,  0.696,  3.638])"
            ]
          },
          "metadata": {},
          "execution_count": 17
        }
      ]
    },
    {
      "cell_type": "code",
      "source": [
        "df['Defaulted'].unique()"
      ],
      "metadata": {
        "colab": {
          "base_uri": "https://localhost:8080/"
        },
        "id": "ebPENWNT8U2H",
        "outputId": "8fd56bf2-57e3-4cf3-9ed3-22e27af39d24"
      },
      "execution_count": 18,
      "outputs": [
        {
          "output_type": "execute_result",
          "data": {
            "text/plain": [
              "array([ 0.,  1., nan])"
            ]
          },
          "metadata": {},
          "execution_count": 18
        }
      ]
    },
    {
      "cell_type": "code",
      "source": [
        "df['DebtIncomeRatio'].unique()"
      ],
      "metadata": {
        "colab": {
          "base_uri": "https://localhost:8080/"
        },
        "id": "lL4xBKoS8pn4",
        "outputId": "ae8c6705-099b-4cd6-9789-7338973044ee"
      },
      "execution_count": 19,
      "outputs": [
        {
          "output_type": "execute_result",
          "data": {
            "text/plain": [
              "array([ 6.3, 12.8, 20.9,  7.2, 10.9,  1.6,  6.6, 15.5,  4. ,  6.1,  6.5,\n",
              "       17.6,  9.4,  9.2,  2.5, 10.6, 10.8,  4.2, 13. , 19.8,  8.4, 17.3,\n",
              "        8.8,  2.6, 13.5,  2.4, 10.1, 15. ,  3.9, 10. ,  7.7,  5.4, 12.9,\n",
              "        4.4,  6.8,  9.7, 12. , 23.8,  5.9, 21.3, 13.1, 17.5,  3.5,  4.1,\n",
              "        6.2,  5.5, 32.5, 24.4,  3.3, 19.9, 12.6,  4.8,  6. , 13.7, 15.4,\n",
              "       11.2, 13.4,  3.7,  8. , 10.5, 14.7, 16.1,  2.8,  1.9,  7.9, 12.2,\n",
              "       29.7,  9.1,  8.2, 18.4, 18.6,  2.2,  0.9,  1.2, 14.8,  4.7, 25.4,\n",
              "        9. , 13.2, 30.1,  2.9, 14.4,  3. ,  5.7,  9.5, 16. ,  9.8, 10.7,\n",
              "        8.1, 18.2, 11.5,  8.3,  5. ,  1.7,  3.4,  4.5, 13.9, 11. , 16.4,\n",
              "        8.7, 11.8, 25.1, 10.3, 23.4,  9.3, 17.2,  5.6, 17.1, 14.6, 19.2,\n",
              "        0.8,  2.7, 14.3, 12.3, 28.9,  5.1, 12.4, 25.3, 26.3, 26. ,  7. ,\n",
              "        8.9,  1.1, 20.3, 24.5,  0.1,  4.6, 13.8,  3.1,  3.6,  1. , 17.8,\n",
              "       23.3, 12.1,  2.1, 12.5,  5.8,  6.7,  4.9, 14.1, 24.6, 17. , 16.9,\n",
              "       12.7, 14. , 23. , 11.3,  3.2,  7.1,  6.4,  8.5, 14.2, 23.1,  6.9,\n",
              "       16.7,  7.6, 10.2, 16.5,  7.8,  1.4, 24.7,  9.6, 18.8, 32.3, 25.2,\n",
              "       18.9, 11.4,  0.6,  7.3,  2.3,  5.2, 21.7, 15.2, 28.5, 19.7,  7.4,\n",
              "        9.9, 11.1,  7.5, 18.3, 13.6,  1.8, 30.7, 19.1, 16.6, 20.1, 18.1,\n",
              "       16.8, 15.1, 21.4, 28.2, 17.4, 20. , 19. , 15.7, 15.6,  1.3, 26.5,\n",
              "       27.7, 15.3, 16.3, 11.7,  4.3, 18.5, 18. , 20.2, 15.8, 10.4, 41.3,\n",
              "       13.3, 22.9, 21.2, 20.4,  8.6, 25.6, 23.7,  0.4,  2. , 14.5, 30.6,\n",
              "       11.6, 24.2, 27.1, 35.3, 19.5, 33.3, 19.4, 23.6, 22.7, 19.6, 18.7,\n",
              "       36.6,  3.8,  5.3,  1.5, 15.9,  0.7, 25.7, 32.4, 22.3, 20.5, 21. ,\n",
              "       30.8, 11.9, 33.4])"
            ]
          },
          "metadata": {},
          "execution_count": 19
        }
      ]
    },
    {
      "cell_type": "markdown",
      "source": [
        "# Check Null Values"
      ],
      "metadata": {
        "id": "QYKotloy9lK8"
      }
    },
    {
      "cell_type": "code",
      "source": [
        "df.isnull().sum()"
      ],
      "metadata": {
        "colab": {
          "base_uri": "https://localhost:8080/"
        },
        "id": "WzvWDter9oTG",
        "outputId": "99b1d09f-40f5-4dca-d995-0aaff6166811"
      },
      "execution_count": 20,
      "outputs": [
        {
          "output_type": "execute_result",
          "data": {
            "text/plain": [
              "Unnamed: 0           0\n",
              "Customer Id          0\n",
              "Age                  0\n",
              "Edu                  0\n",
              "Years Employed       0\n",
              "Income               0\n",
              "Card Debt            0\n",
              "Other Debt           0\n",
              "Defaulted          150\n",
              "DebtIncomeRatio      0\n",
              "dtype: int64"
            ]
          },
          "metadata": {},
          "execution_count": 20
        }
      ]
    },
    {
      "cell_type": "code",
      "source": [
        "import missingno as msno \n",
        "# Visualize missing values as a matrix \n",
        "msno.matrix(df,figsize=(12,6)) "
      ],
      "metadata": {
        "colab": {
          "base_uri": "https://localhost:8080/",
          "height": 502
        },
        "id": "IQGU_NB8-w2O",
        "outputId": "d7b72d13-33e5-497a-cb89-0aec8d7aa921"
      },
      "execution_count": 21,
      "outputs": [
        {
          "output_type": "execute_result",
          "data": {
            "text/plain": [
              "<matplotlib.axes._subplots.AxesSubplot at 0x7f581a2ca510>"
            ]
          },
          "metadata": {},
          "execution_count": 21
        },
        {
          "output_type": "display_data",
          "data": {
            "image/png": "[encoded data removed]",
            "text/plain": [
              "<Figure size 864x432 with 2 Axes>"
            ]
          },
          "metadata": {
            "needs_background": "light"
          }
        }
      ]
    },
    {
      "cell_type": "code",
      "source": [
        "# Visualize the number of missing \n",
        "# values as a bar chart \n",
        "msno.bar(df,figsize=(10,4)) "
      ],
      "metadata": {
        "colab": {
          "base_uri": "https://localhost:8080/",
          "height": 421
        },
        "id": "m0KOriie_tXF",
        "outputId": "f8deec82-2f1d-4fc7-9d74-c0159229b89e"
      },
      "execution_count": 22,
      "outputs": [
        {
          "output_type": "execute_result",
          "data": {
            "text/plain": [
              "<matplotlib.axes._subplots.AxesSubplot at 0x7f58115f8950>"
            ]
          },
          "metadata": {},
          "execution_count": 22
        },
        {
          "output_type": "display_data",
          "data": {
            "image/png": "[encoded data removed]",
            "text/plain": [
              "<Figure size 720x288 with 3 Axes>"
            ]
          },
          "metadata": {
            "needs_background": "light"
          }
        }
      ]
    },
    {
      "cell_type": "code",
      "source": [
        "#sns.heatmap(df.isnull(),cmap=\"viridis\")\n",
        "plt.figure(figsize=(10,6))\n",
        "sns.heatmap(\n",
        "    data=df.isnull(),\n",
        "    cmap=sns.color_palette(['black', 'yellow', 'orange', 'white']),cbar=False)"
      ],
      "metadata": {
        "colab": {
          "base_uri": "https://localhost:8080/",
          "height": 473
        },
        "id": "lUMp5nfr_xjm",
        "outputId": "ad9c43c7-1d97-4846-e51b-c5aa75107027"
      },
      "execution_count": 23,
      "outputs": [
        {
          "output_type": "execute_result",
          "data": {
            "text/plain": [
              "<matplotlib.axes._subplots.AxesSubplot at 0x7f5810241f90>"
            ]
          },
          "metadata": {},
          "execution_count": 23
        },
        {
          "output_type": "display_data",
          "data": {
            "image/png": "[encoded data removed]",
            "text/plain": [
              "<Figure size 720x432 with 1 Axes>"
            ]
          },
          "metadata": {
            "needs_background": "light"
          }
        }
      ]
    },
    {
      "cell_type": "code",
      "source": [
        "#df.describe(include=['O'])  ## For categorical"
      ],
      "metadata": {
        "id": "XLFaVk9GABSv"
      },
      "execution_count": 24,
      "outputs": []
    },
    {
      "cell_type": "code",
      "source": [
        "df[\"Defaulted\"].mean()"
      ],
      "metadata": {
        "colab": {
          "base_uri": "https://localhost:8080/"
        },
        "id": "4WRQUegwAbz9",
        "outputId": "9417362b-a0f1-4a3d-f278-54207c420196"
      },
      "execution_count": 25,
      "outputs": [
        {
          "output_type": "execute_result",
          "data": {
            "text/plain": [
              "0.26142857142857145"
            ]
          },
          "metadata": {},
          "execution_count": 25
        }
      ]
    },
    {
      "cell_type": "markdown",
      "source": [
        "# Treat the Inconsistent Values and Impute"
      ],
      "metadata": {
        "id": "eCJ_OoLrDANn"
      }
    },
    {
      "cell_type": "markdown",
      "source": [
        "# REPLACE INCONSISTENT VALUES\n",
        "\n"
      ],
      "metadata": {
        "id": "Lu5P51mzGcvI"
      }
    },
    {
      "cell_type": "code",
      "source": [
        "# df[\"\"].replace({\"OLD\": \"NEW\", \"OLD\": \"NEW\", \"high\": \"HIGH\"}, inplace=True)\n",
        "# print(df)"
      ],
      "metadata": {
        "id": "U9B7Zr3qGoIm"
      },
      "execution_count": 26,
      "outputs": []
    },
    {
      "cell_type": "markdown",
      "source": [
        "# Treat the Duplicate Values and Replace/Remove"
      ],
      "metadata": {
        "id": "XEej7SopC7wH"
      }
    },
    {
      "cell_type": "code",
      "source": [
        "# removes all duplicate rows\n",
        "# df = df.drop_duplicates(keep=False) # False # --Drop all duplicates.\n",
        "# df"
      ],
      "metadata": {
        "id": "hk3qVQJ3HJtn"
      },
      "execution_count": 27,
      "outputs": []
    },
    {
      "cell_type": "code",
      "source": [
        "# changing the dataset by settig inplace  to true\n",
        "# df.drop_duplicates(keep='first', inplace=True)\n",
        "# df"
      ],
      "metadata": {
        "id": "d8GMkcNsHPsz"
      },
      "execution_count": 28,
      "outputs": []
    },
    {
      "cell_type": "markdown",
      "source": [
        "# Treat the Missing Values and Impute"
      ],
      "metadata": {
        "id": "MHJ6zI1jAm-e"
      }
    },
    {
      "cell_type": "code",
      "source": [
        "## Train Dataset (\"Column\") column without null\n",
        "# df = df.dropna()"
      ],
      "metadata": {
        "id": "4N300oiaGBCN"
      },
      "execution_count": 29,
      "outputs": []
    },
    {
      "cell_type": "code",
      "source": [
        "imputer=SimpleImputer(missing_values=np.nan,strategy='mean')\n",
        "## Impute NaN value in columns \" Defaulted  \" with mean value of respected column.\n",
        "imputer=imputer.fit(df.iloc[:,8:9])\n",
        "df.iloc[:,8:9]=imputer.transform(df.iloc[:,8:9])"
      ],
      "metadata": {
        "id": "F6NK-3iOA3nV"
      },
      "execution_count": 30,
      "outputs": []
    },
    {
      "cell_type": "code",
      "source": [
        "# RECHECK\n",
        "df.isnull().sum()"
      ],
      "metadata": {
        "colab": {
          "base_uri": "https://localhost:8080/"
        },
        "id": "5QeHemEPB-vM",
        "outputId": "0096974f-5058-4282-b881-159a46d59688"
      },
      "execution_count": 31,
      "outputs": [
        {
          "output_type": "execute_result",
          "data": {
            "text/plain": [
              "Unnamed: 0         0\n",
              "Customer Id        0\n",
              "Age                0\n",
              "Edu                0\n",
              "Years Employed     0\n",
              "Income             0\n",
              "Card Debt          0\n",
              "Other Debt         0\n",
              "Defaulted          0\n",
              "DebtIncomeRatio    0\n",
              "dtype: int64"
            ]
          },
          "metadata": {},
          "execution_count": 31
        }
      ]
    },
    {
      "cell_type": "code",
      "source": [
        "# Age distribution\n",
        "\n",
        "print(cl(df['Age'].describe(), attrs = ['bold']))\n",
        "\n",
        "sb.distplot(df['Age'], \n",
        "            color = 'orange')\n",
        "plt.title('AGE DISTRIBUTION', \n",
        "          fontsize = 18)\n",
        "plt.xlabel('Age', \n",
        "           fontsize = 16)\n",
        "plt.ylabel('Frequency', \n",
        "           fontsize = 16)\n",
        "plt.xticks(fontsize = 14)\n",
        "plt.yticks(fontsize = 14)\n",
        "\n",
        "plt.savefig('age_distribution.png')\n",
        "plt.show()"
      ],
      "metadata": {
        "colab": {
          "base_uri": "https://localhost:8080/",
          "height": 528
        },
        "id": "MLOVG8b5Llcx",
        "outputId": "df77df26-1c47-4747-fa92-2a51c5d93ea0"
      },
      "execution_count": 32,
      "outputs": [
        {
          "output_type": "stream",
          "name": "stdout",
          "text": [
            "\u001b[1mcount    850.000000\n",
            "mean      35.029412\n",
            "std        8.041432\n",
            "min       20.000000\n",
            "25%       29.000000\n",
            "50%       34.000000\n",
            "75%       41.000000\n",
            "max       56.000000\n",
            "Name: Age, dtype: float64\u001b[0m\n"
          ]
        },
        {
          "output_type": "stream",
          "name": "stderr",
          "text": [
            "/usr/local/lib/python3.7/dist-packages/seaborn/distributions.py:2619: FutureWarning: `distplot` is a deprecated function and will be removed in a future version. Please adapt your code to use either `displot` (a figure-level function with similar flexibility) or `histplot` (an axes-level function for histograms).\n",
            "  warnings.warn(msg, FutureWarning)\n"
          ]
        },
        {
          "output_type": "display_data",
          "data": {
            "image/png": "[encoded data removed]",
            "text/plain": [
              "<Figure size 432x288 with 1 Axes>"
            ]
          },
          "metadata": {
            "needs_background": "light"
          }
        }
      ]
    },
    {
      "cell_type": "code",
      "source": [
        "# Age vs Income\n",
        "\n",
        "sb.scatterplot('Age', 'Income', \n",
        "               data = df, \n",
        "               color = 'deepskyblue', \n",
        "               s = 150, \n",
        "               alpha = 0.6, \n",
        "               edgecolor = 'b')\n",
        "plt.title('AGE / INCOME', \n",
        "          fontsize = 18)\n",
        "plt.xlabel('Age', \n",
        "           fontsize = 16)\n",
        "plt.ylabel('Income', \n",
        "           fontsize = 16)\n",
        "plt.xticks(fontsize = 14)\n",
        "plt.yticks(fontsize = 14)\n",
        "\n",
        "plt.savefig('age_income.png')\n",
        "plt.show()"
      ],
      "metadata": {
        "colab": {
          "base_uri": "https://localhost:8080/",
          "height": 365
        },
        "id": "tgqm28R7MUlw",
        "outputId": "3376afcb-2ea9-4436-abaf-7ee5d0996895"
      },
      "execution_count": 33,
      "outputs": [
        {
          "output_type": "stream",
          "name": "stderr",
          "text": [
            "/usr/local/lib/python3.7/dist-packages/seaborn/_decorators.py:43: FutureWarning: Pass the following variables as keyword args: x, y. From version 0.12, the only valid positional argument will be `data`, and passing other arguments without an explicit keyword will result in an error or misinterpretation.\n",
            "  FutureWarning\n"
          ]
        },
        {
          "output_type": "display_data",
          "data": {
            "image/png": "[encoded data removed]",
            "text/plain": [
              "<Figure size 432x288 with 1 Axes>"
            ]
          },
          "metadata": {
            "needs_background": "light"
          }
        }
      ]
    },
    {
      "cell_type": "code",
      "source": [
        "# Years Employed vs Income\n",
        "\n",
        "area = df.DebtIncomeRatio **2\n",
        "\n",
        "sb.scatterplot('Years Employed', 'Income', \n",
        "               data = df, \n",
        "               s = area, \n",
        "               alpha = 0.6, \n",
        "               edgecolor = 'white', \n",
        "               hue = 'Defaulted', \n",
        "               palette = 'spring')\n",
        "plt.title('YEARS EMPLOYED / INCOME', \n",
        "          fontsize = 18)\n",
        "plt.xlabel('Years Employed', \n",
        "           fontsize = 16)\n",
        "plt.ylabel('Income', \n",
        "           fontsize = 16)\n",
        "plt.xticks(fontsize = 14)\n",
        "plt.yticks(fontsize = 14)\n",
        "plt.legend(loc = 'upper left', fontsize = 14)\n",
        "\n",
        "plt.savefig('y_income.png')\n",
        "plt.show()"
      ],
      "metadata": {
        "colab": {
          "base_uri": "https://localhost:8080/",
          "height": 365
        },
        "id": "2jCiZMxAMZtZ",
        "outputId": "8ae05171-63d3-46f6-8e75-c418f4dac444"
      },
      "execution_count": 34,
      "outputs": [
        {
          "output_type": "stream",
          "name": "stderr",
          "text": [
            "/usr/local/lib/python3.7/dist-packages/seaborn/_decorators.py:43: FutureWarning: Pass the following variables as keyword args: x, y. From version 0.12, the only valid positional argument will be `data`, and passing other arguments without an explicit keyword will result in an error or misinterpretation.\n",
            "  FutureWarning\n"
          ]
        },
        {
          "output_type": "display_data",
          "data": {
            "image/png": "[encoded data removed]",
            "text/plain": [
              "<Figure size 432x288 with 1 Axes>"
            ]
          },
          "metadata": {
            "needs_background": "light"
          }
        }
      ]
    },
    {
      "cell_type": "code",
      "source": [
        "sns.catplot(x='Age',hue=\"Edu\",data=df,kind = \"count\")"
      ],
      "metadata": {
        "colab": {
          "base_uri": "https://localhost:8080/",
          "height": 388
        },
        "id": "oFuaZRMjOc5J",
        "outputId": "872726af-8994-467b-b427-2b8a3b3dff39"
      },
      "execution_count": 35,
      "outputs": [
        {
          "output_type": "execute_result",
          "data": {
            "text/plain": [
              "<seaborn.axisgrid.FacetGrid at 0x7f580df50ed0>"
            ]
          },
          "metadata": {},
          "execution_count": 35
        },
        {
          "output_type": "display_data",
          "data": {
            "image/png": "[encoded data removed]",
            "text/plain": [
              "<Figure size 402.375x360 with 1 Axes>"
            ]
          },
          "metadata": {
            "needs_background": "light"
          }
        }
      ]
    },
    {
      "cell_type": "code",
      "source": [
        "plt.figure(figsize=(10,6))\n",
        "sns.heatmap(df.corr(),annot=True)"
      ],
      "metadata": {
        "colab": {
          "base_uri": "https://localhost:8080/",
          "height": 472
        },
        "id": "NdGXT-K5Te8P",
        "outputId": "eaaa0dfd-f79b-41f7-c3fd-4a2da4f712d8"
      },
      "execution_count": 36,
      "outputs": [
        {
          "output_type": "execute_result",
          "data": {
            "text/plain": [
              "<matplotlib.axes._subplots.AxesSubplot at 0x7f580df1cd50>"
            ]
          },
          "metadata": {},
          "execution_count": 36
        },
        {
          "output_type": "display_data",
          "data": {
            "image/png": "[encoded data removed]",
            "text/plain": [
              "<Figure size 720x432 with 2 Axes>"
            ]
          },
          "metadata": {
            "needs_background": "light"
          }
        }
      ]
    },
    {
      "cell_type": "markdown",
      "source": [
        "# Pre-processing"
      ],
      "metadata": {
        "id": "FYjWC3giIgoK"
      }
    },
    {
      "cell_type": "code",
      "source": [
        "X = df\n",
        "df.head()"
      ],
      "metadata": {
        "colab": {
          "base_uri": "https://localhost:8080/",
          "height": 206
        },
        "id": "8jEuk5YdIlml",
        "outputId": "5e8e2737-7ce1-479f-ac48-1c235979d0ea"
      },
      "execution_count": 37,
      "outputs": [
        {
          "output_type": "execute_result",
          "data": {
            "text/html": [
              "\n",
              "  <div id=\"df-cb28dfe2-f835-4899-9dc9-562189e528ae\">\n",
              "    <div class=\"colab-df-container\">\n",
              "      <div>\n",
              "<style scoped>\n",
              "    .dataframe tbody tr th:only-of-type {\n",
              "        vertical-align: middle;\n",
              "    }\n",
              "\n",
              "    .dataframe tbody tr th {\n",
              "        vertical-align: top;\n",
              "    }\n",
              "\n",
              "    .dataframe thead th {\n",
              "        text-align: right;\n",
              "    }\n",
              "</style>\n",
              "<table border=\"1\" class=\"dataframe\">\n",
              "  <thead>\n",
              "    <tr style=\"text-align: right;\">\n",
              "      <th></th>\n",
              "      <th>Unnamed: 0</th>\n",
              "      <th>Customer Id</th>\n",
              "      <th>Age</th>\n",
              "      <th>Edu</th>\n",
              "      <th>Years Employed</th>\n",
              "      <th>Income</th>\n",
              "      <th>Card Debt</th>\n",
              "      <th>Other Debt</th>\n",
              "      <th>Defaulted</th>\n",
              "      <th>DebtIncomeRatio</th>\n",
              "    </tr>\n",
              "  </thead>\n",
              "  <tbody>\n",
              "    <tr>\n",
              "      <th>0</th>\n",
              "      <td>0</td>\n",
              "      <td>1</td>\n",
              "      <td>41</td>\n",
              "      <td>2</td>\n",
              "      <td>6</td>\n",
              "      <td>19</td>\n",
              "      <td>0.124</td>\n",
              "      <td>1.073</td>\n",
              "      <td>0.0</td>\n",
              "      <td>6.3</td>\n",
              "    </tr>\n",
              "    <tr>\n",
              "      <th>1</th>\n",
              "      <td>1</td>\n",
              "      <td>2</td>\n",
              "      <td>47</td>\n",
              "      <td>1</td>\n",
              "      <td>26</td>\n",
              "      <td>100</td>\n",
              "      <td>4.582</td>\n",
              "      <td>8.218</td>\n",
              "      <td>0.0</td>\n",
              "      <td>12.8</td>\n",
              "    </tr>\n",
              "    <tr>\n",
              "      <th>2</th>\n",
              "      <td>2</td>\n",
              "      <td>3</td>\n",
              "      <td>33</td>\n",
              "      <td>2</td>\n",
              "      <td>10</td>\n",
              "      <td>57</td>\n",
              "      <td>6.111</td>\n",
              "      <td>5.802</td>\n",
              "      <td>1.0</td>\n",
              "      <td>20.9</td>\n",
              "    </tr>\n",
              "    <tr>\n",
              "      <th>3</th>\n",
              "      <td>3</td>\n",
              "      <td>4</td>\n",
              "      <td>29</td>\n",
              "      <td>2</td>\n",
              "      <td>4</td>\n",
              "      <td>19</td>\n",
              "      <td>0.681</td>\n",
              "      <td>0.516</td>\n",
              "      <td>0.0</td>\n",
              "      <td>6.3</td>\n",
              "    </tr>\n",
              "    <tr>\n",
              "      <th>4</th>\n",
              "      <td>4</td>\n",
              "      <td>5</td>\n",
              "      <td>47</td>\n",
              "      <td>1</td>\n",
              "      <td>31</td>\n",
              "      <td>253</td>\n",
              "      <td>9.308</td>\n",
              "      <td>8.908</td>\n",
              "      <td>0.0</td>\n",
              "      <td>7.2</td>\n",
              "    </tr>\n",
              "  </tbody>\n",
              "</table>\n",
              "</div>\n",
              "      <button class=\"colab-df-convert\" onclick=\"convertToInteractive('df-cb28dfe2-f835-4899-9dc9-562189e528ae')\"\n",
              "              title=\"Convert this dataframe to an interactive table.\"\n",
              "              style=\"display:none;\">\n",
              "        \n",
              "  <svg xmlns=\"http://www.w3.org/2000/svg\" height=\"24px\"viewBox=\"0 0 24 24\"\n",
              "       width=\"24px\">\n",
              "    <path d=\"M0 0h24v24H0V0z\" fill=\"none\"/>\n",
              "    <path d=\"M18.56 5.44l.94 2.06.94-2.06 2.06-.94-2.06-.94-.94-2.06-.94 2.06-2.06.94zm-11 1L8.5 8.5l.94-2.06 2.06-.94-2.06-.94L8.5 2.5l-.94 2.06-2.06.94zm10 10l.94 2.06.94-2.06 2.06-.94-2.06-.94-.94-2.06-.94 2.06-2.06.94z\"/><path d=\"M17.41 7.96l-1.37-1.37c-.4-.4-.92-.59-1.43-.59-.52 0-1.04.2-1.43.59L10.3 9.45l-7.72 7.72c-.78.78-.78 2.05 0 2.83L4 21.41c.39.39.9.59 1.41.59.51 0 1.02-.2 1.41-.59l7.78-7.78 2.81-2.81c.8-.78.8-2.07 0-2.86zM5.41 20L4 18.59l7.72-7.72 1.47 1.35L5.41 20z\"/>\n",
              "  </svg>\n",
              "      </button>\n",
              "      \n",
              "  <style>\n",
              "    .colab-df-container {\n",
              "      display:flex;\n",
              "      flex-wrap:wrap;\n",
              "      gap: 12px;\n",
              "    }\n",
              "\n",
              "    .colab-df-convert {\n",
              "      background-color: #E8F0FE;\n",
              "      border: none;\n",
              "      border-radius: 50%;\n",
              "      cursor: pointer;\n",
              "      display: none;\n",
              "      fill: #1967D2;\n",
              "      height: 32px;\n",
              "      padding: 0 0 0 0;\n",
              "      width: 32px;\n",
              "    }\n",
              "\n",
              "    .colab-df-convert:hover {\n",
              "      background-color: #E2EBFA;\n",
              "      box-shadow: 0px 1px 2px rgba(60, 64, 67, 0.3), 0px 1px 3px 1px rgba(60, 64, 67, 0.15);\n",
              "      fill: #174EA6;\n",
              "    }\n",
              "\n",
              "    [theme=dark] .colab-df-convert {\n",
              "      background-color: #3B4455;\n",
              "      fill: #D2E3FC;\n",
              "    }\n",
              "\n",
              "    [theme=dark] .colab-df-convert:hover {\n",
              "      background-color: #434B5C;\n",
              "      box-shadow: 0px 1px 3px 1px rgba(0, 0, 0, 0.15);\n",
              "      filter: drop-shadow(0px 1px 2px rgba(0, 0, 0, 0.3));\n",
              "      fill: #FFFFFF;\n",
              "    }\n",
              "  </style>\n",
              "\n",
              "      <script>\n",
              "        const buttonEl =\n",
              "          document.querySelector('#df-cb28dfe2-f835-4899-9dc9-562189e528ae button.colab-df-convert');\n",
              "        buttonEl.style.display =\n",
              "          google.colab.kernel.accessAllowed ? 'block' : 'none';\n",
              "\n",
              "        async function convertToInteractive(key) {\n",
              "          const element = document.querySelector('#df-cb28dfe2-f835-4899-9dc9-562189e528ae');\n",
              "          const dataTable =\n",
              "            await google.colab.kernel.invokeFunction('convertToInteractive',\n",
              "                                                     [key], {});\n",
              "          if (!dataTable) return;\n",
              "\n",
              "          const docLinkHtml = 'Like what you see? Visit the ' +\n",
              "            '<a target=\"_blank\" href=https://colab.research.google.com/notebooks/data_table.ipynb>data table notebook</a>'\n",
              "            + ' to learn more about interactive tables.';\n",
              "          element.innerHTML = '';\n",
              "          dataTable['output_type'] = 'display_data';\n",
              "          await google.colab.output.renderOutput(dataTable, element);\n",
              "          const docLink = document.createElement('div');\n",
              "          docLink.innerHTML = docLinkHtml;\n",
              "          element.appendChild(docLink);\n",
              "        }\n",
              "      </script>\n",
              "    </div>\n",
              "  </div>\n",
              "  "
            ],
            "text/plain": [
              "   Unnamed: 0  Customer Id  Age  ...  Other Debt  Defaulted  DebtIncomeRatio\n",
              "0           0            1   41  ...       1.073        0.0              6.3\n",
              "1           1            2   47  ...       8.218        0.0             12.8\n",
              "2           2            3   33  ...       5.802        1.0             20.9\n",
              "3           3            4   29  ...       0.516        0.0              6.3\n",
              "4           4            5   47  ...       8.908        0.0              7.2\n",
              "\n",
              "[5 rows x 10 columns]"
            ]
          },
          "metadata": {},
          "execution_count": 37
        }
      ]
    },
    {
      "cell_type": "code",
      "source": [
        "from sklearn.compose import make_column_selector\n",
        "\n",
        "#instantiate the selectors to for numeric and categorical data types\n",
        "num_selector = make_column_selector(dtype_include='number')\n",
        "cat_selector = make_column_selector(dtype_include='object')\n",
        "#select the numeric columns of each type\n",
        "numerical_features = num_selector(df)\n",
        "categorial_features = cat_selector(df)\n",
        "#check our lists\n",
        "print('numeric columns are', numerical_features)\n",
        "print('categorical columns are', categorial_features)"
      ],
      "metadata": {
        "colab": {
          "base_uri": "https://localhost:8080/"
        },
        "id": "vfPfpwxUTIpW",
        "outputId": "31cf1621-7d99-4012-cc6f-bcf9c8f5b8d8"
      },
      "execution_count": 38,
      "outputs": [
        {
          "output_type": "stream",
          "name": "stdout",
          "text": [
            "numeric columns are ['Unnamed: 0', 'Customer Id', 'Age', 'Edu', 'Years Employed', 'Income', 'Card Debt', 'Other Debt', 'Defaulted', 'DebtIncomeRatio']\n",
            "categorical columns are []\n"
          ]
        }
      ]
    },
    {
      "cell_type": "markdown",
      "source": [
        "# Treat Categorical Values"
      ],
      "metadata": {
        "id": "lXvjE4SWFrZ8"
      }
    },
    {
      "cell_type": "code",
      "source": [
        "## Convert \"Sex\" male=1 and female=0\n",
        "#df[\"\"].replace([\"\",\"\"],[1,0],inplace=True)\n",
        "\n",
        "# map categorical values into numbers\n",
        "from sklearn.compose import make_column_selector\n",
        "# for each categorical columns\n",
        "cat_selector = make_column_selector(dtype_include='object')\n",
        "cat_data = X[cat_selector(X)]\n",
        "\n",
        "# for each categorical columns\n",
        "for c_name in cat_data.columns:\n",
        "    \n",
        "    # print the column name\n",
        "    print(c_name)\n",
        "\n",
        "    # get unique values from that column\n",
        "    values_list = df[c_name].unique()\n",
        "\n",
        "    # initialize the dictionary (mapper)\n",
        "    col_dictionary = dict()\n",
        "\n",
        "    # for each value in that column\n",
        "    for index, value in enumerate(values_list):\n",
        "        \n",
        "        # display the index(position) and value\n",
        "        #print(index, value)\n",
        "\n",
        "        # add the 'value: index' to the dictionary\n",
        "        col_dictionary[value] = index\n",
        "\n",
        "    #print(col_dictionary)\n",
        "\n",
        "    # replace values in that column\n",
        "    X[c_name].replace(col_dictionary, inplace=True)\n",
        "\n",
        "X.head()"
      ],
      "metadata": {
        "colab": {
          "base_uri": "https://localhost:8080/",
          "height": 206
        },
        "id": "ZH2O_nmDF2Kb",
        "outputId": "2634b074-1837-4ad3-e9ee-210cca6376af"
      },
      "execution_count": 39,
      "outputs": [
        {
          "output_type": "execute_result",
          "data": {
            "text/html": [
              "\n",
              "  <div id=\"df-b09ac5ea-5eaf-4ce6-a25a-60f18d0577b0\">\n",
              "    <div class=\"colab-df-container\">\n",
              "      <div>\n",
              "<style scoped>\n",
              "    .dataframe tbody tr th:only-of-type {\n",
              "        vertical-align: middle;\n",
              "    }\n",
              "\n",
              "    .dataframe tbody tr th {\n",
              "        vertical-align: top;\n",
              "    }\n",
              "\n",
              "    .dataframe thead th {\n",
              "        text-align: right;\n",
              "    }\n",
              "</style>\n",
              "<table border=\"1\" class=\"dataframe\">\n",
              "  <thead>\n",
              "    <tr style=\"text-align: right;\">\n",
              "      <th></th>\n",
              "      <th>Unnamed: 0</th>\n",
              "      <th>Customer Id</th>\n",
              "      <th>Age</th>\n",
              "      <th>Edu</th>\n",
              "      <th>Years Employed</th>\n",
              "      <th>Income</th>\n",
              "      <th>Card Debt</th>\n",
              "      <th>Other Debt</th>\n",
              "      <th>Defaulted</th>\n",
              "      <th>DebtIncomeRatio</th>\n",
              "    </tr>\n",
              "  </thead>\n",
              "  <tbody>\n",
              "    <tr>\n",
              "      <th>0</th>\n",
              "      <td>0</td>\n",
              "      <td>1</td>\n",
              "      <td>41</td>\n",
              "      <td>2</td>\n",
              "      <td>6</td>\n",
              "      <td>19</td>\n",
              "      <td>0.124</td>\n",
              "      <td>1.073</td>\n",
              "      <td>0.0</td>\n",
              "      <td>6.3</td>\n",
              "    </tr>\n",
              "    <tr>\n",
              "      <th>1</th>\n",
              "      <td>1</td>\n",
              "      <td>2</td>\n",
              "      <td>47</td>\n",
              "      <td>1</td>\n",
              "      <td>26</td>\n",
              "      <td>100</td>\n",
              "      <td>4.582</td>\n",
              "      <td>8.218</td>\n",
              "      <td>0.0</td>\n",
              "      <td>12.8</td>\n",
              "    </tr>\n",
              "    <tr>\n",
              "      <th>2</th>\n",
              "      <td>2</td>\n",
              "      <td>3</td>\n",
              "      <td>33</td>\n",
              "      <td>2</td>\n",
              "      <td>10</td>\n",
              "      <td>57</td>\n",
              "      <td>6.111</td>\n",
              "      <td>5.802</td>\n",
              "      <td>1.0</td>\n",
              "      <td>20.9</td>\n",
              "    </tr>\n",
              "    <tr>\n",
              "      <th>3</th>\n",
              "      <td>3</td>\n",
              "      <td>4</td>\n",
              "      <td>29</td>\n",
              "      <td>2</td>\n",
              "      <td>4</td>\n",
              "      <td>19</td>\n",
              "      <td>0.681</td>\n",
              "      <td>0.516</td>\n",
              "      <td>0.0</td>\n",
              "      <td>6.3</td>\n",
              "    </tr>\n",
              "    <tr>\n",
              "      <th>4</th>\n",
              "      <td>4</td>\n",
              "      <td>5</td>\n",
              "      <td>47</td>\n",
              "      <td>1</td>\n",
              "      <td>31</td>\n",
              "      <td>253</td>\n",
              "      <td>9.308</td>\n",
              "      <td>8.908</td>\n",
              "      <td>0.0</td>\n",
              "      <td>7.2</td>\n",
              "    </tr>\n",
              "  </tbody>\n",
              "</table>\n",
              "</div>\n",
              "      <button class=\"colab-df-convert\" onclick=\"convertToInteractive('df-b09ac5ea-5eaf-4ce6-a25a-60f18d0577b0')\"\n",
              "              title=\"Convert this dataframe to an interactive table.\"\n",
              "              style=\"display:none;\">\n",
              "        \n",
              "  <svg xmlns=\"http://www.w3.org/2000/svg\" height=\"24px\"viewBox=\"0 0 24 24\"\n",
              "       width=\"24px\">\n",
              "    <path d=\"M0 0h24v24H0V0z\" fill=\"none\"/>\n",
              "    <path d=\"M18.56 5.44l.94 2.06.94-2.06 2.06-.94-2.06-.94-.94-2.06-.94 2.06-2.06.94zm-11 1L8.5 8.5l.94-2.06 2.06-.94-2.06-.94L8.5 2.5l-.94 2.06-2.06.94zm10 10l.94 2.06.94-2.06 2.06-.94-2.06-.94-.94-2.06-.94 2.06-2.06.94z\"/><path d=\"M17.41 7.96l-1.37-1.37c-.4-.4-.92-.59-1.43-.59-.52 0-1.04.2-1.43.59L10.3 9.45l-7.72 7.72c-.78.78-.78 2.05 0 2.83L4 21.41c.39.39.9.59 1.41.59.51 0 1.02-.2 1.41-.59l7.78-7.78 2.81-2.81c.8-.78.8-2.07 0-2.86zM5.41 20L4 18.59l7.72-7.72 1.47 1.35L5.41 20z\"/>\n",
              "  </svg>\n",
              "      </button>\n",
              "      \n",
              "  <style>\n",
              "    .colab-df-container {\n",
              "      display:flex;\n",
              "      flex-wrap:wrap;\n",
              "      gap: 12px;\n",
              "    }\n",
              "\n",
              "    .colab-df-convert {\n",
              "      background-color: #E8F0FE;\n",
              "      border: none;\n",
              "      border-radius: 50%;\n",
              "      cursor: pointer;\n",
              "      display: none;\n",
              "      fill: #1967D2;\n",
              "      height: 32px;\n",
              "      padding: 0 0 0 0;\n",
              "      width: 32px;\n",
              "    }\n",
              "\n",
              "    .colab-df-convert:hover {\n",
              "      background-color: #E2EBFA;\n",
              "      box-shadow: 0px 1px 2px rgba(60, 64, 67, 0.3), 0px 1px 3px 1px rgba(60, 64, 67, 0.15);\n",
              "      fill: #174EA6;\n",
              "    }\n",
              "\n",
              "    [theme=dark] .colab-df-convert {\n",
              "      background-color: #3B4455;\n",
              "      fill: #D2E3FC;\n",
              "    }\n",
              "\n",
              "    [theme=dark] .colab-df-convert:hover {\n",
              "      background-color: #434B5C;\n",
              "      box-shadow: 0px 1px 3px 1px rgba(0, 0, 0, 0.15);\n",
              "      filter: drop-shadow(0px 1px 2px rgba(0, 0, 0, 0.3));\n",
              "      fill: #FFFFFF;\n",
              "    }\n",
              "  </style>\n",
              "\n",
              "      <script>\n",
              "        const buttonEl =\n",
              "          document.querySelector('#df-b09ac5ea-5eaf-4ce6-a25a-60f18d0577b0 button.colab-df-convert');\n",
              "        buttonEl.style.display =\n",
              "          google.colab.kernel.accessAllowed ? 'block' : 'none';\n",
              "\n",
              "        async function convertToInteractive(key) {\n",
              "          const element = document.querySelector('#df-b09ac5ea-5eaf-4ce6-a25a-60f18d0577b0');\n",
              "          const dataTable =\n",
              "            await google.colab.kernel.invokeFunction('convertToInteractive',\n",
              "                                                     [key], {});\n",
              "          if (!dataTable) return;\n",
              "\n",
              "          const docLinkHtml = 'Like what you see? Visit the ' +\n",
              "            '<a target=\"_blank\" href=https://colab.research.google.com/notebooks/data_table.ipynb>data table notebook</a>'\n",
              "            + ' to learn more about interactive tables.';\n",
              "          element.innerHTML = '';\n",
              "          dataTable['output_type'] = 'display_data';\n",
              "          await google.colab.output.renderOutput(dataTable, element);\n",
              "          const docLink = document.createElement('div');\n",
              "          docLink.innerHTML = docLinkHtml;\n",
              "          element.appendChild(docLink);\n",
              "        }\n",
              "      </script>\n",
              "    </div>\n",
              "  </div>\n",
              "  "
            ],
            "text/plain": [
              "   Unnamed: 0  Customer Id  Age  ...  Other Debt  Defaulted  DebtIncomeRatio\n",
              "0           0            1   41  ...       1.073        0.0              6.3\n",
              "1           1            2   47  ...       8.218        0.0             12.8\n",
              "2           2            3   33  ...       5.802        1.0             20.9\n",
              "3           3            4   29  ...       0.516        0.0              6.3\n",
              "4           4            5   47  ...       8.908        0.0              7.2\n",
              "\n",
              "[5 rows x 10 columns]"
            ]
          },
          "metadata": {},
          "execution_count": 39
        }
      ]
    },
    {
      "cell_type": "markdown",
      "source": [
        "# Normalization "
      ],
      "metadata": {
        "id": "Q4QGdjKCJfly"
      }
    },
    {
      "cell_type": "code",
      "source": [
        "# scale values\n",
        "from sklearn.preprocessing import StandardScaler\n",
        "scaler = StandardScaler()\n",
        "# Fit on training set only\n",
        "scaler.fit(X)\n",
        "# Apply transform to both the training set and the test set\n",
        "X_scaled = scaler.transform(X)"
      ],
      "metadata": {
        "id": "g4flknNmJi1K"
      },
      "execution_count": 40,
      "outputs": []
    },
    {
      "cell_type": "code",
      "source": [
        "plt.scatter(X['Age'], X['Income'])\n",
        "plt.xlabel('Age')\n",
        "plt.ylabel('Income');"
      ],
      "metadata": {
        "colab": {
          "base_uri": "https://localhost:8080/",
          "height": 279
        },
        "id": "lH6rr59pKIWj",
        "outputId": "cbfb1da3-04a6-4397-a389-3b66cb1703ff"
      },
      "execution_count": 41,
      "outputs": [
        {
          "output_type": "display_data",
          "data": {
            "image/png": "[encoded data removed]",
            "text/plain": [
              "<Figure size 432x288 with 1 Axes>"
            ]
          },
          "metadata": {
            "needs_background": "light"
          }
        }
      ]
    },
    {
      "cell_type": "markdown",
      "source": [
        "# KMEANS"
      ],
      "metadata": {
        "id": "SbirtGpihJhi"
      }
    },
    {
      "cell_type": "code",
      "source": [
        "kmeans = KMeans(n_clusters = 3)\n",
        "kmeans.fit(X_scaled)"
      ],
      "metadata": {
        "colab": {
          "base_uri": "https://localhost:8080/"
        },
        "id": "QReux0JGKSM6",
        "outputId": "ccd16c72-c51e-42d0-d41b-d266d74cdc71"
      },
      "execution_count": 42,
      "outputs": [
        {
          "output_type": "execute_result",
          "data": {
            "text/plain": [
              "KMeans(n_clusters=3)"
            ]
          },
          "metadata": {},
          "execution_count": 42
        }
      ]
    },
    {
      "cell_type": "code",
      "source": [
        "X['cluster'] = kmeans.labels_\n",
        "X.head()"
      ],
      "metadata": {
        "colab": {
          "base_uri": "https://localhost:8080/",
          "height": 206
        },
        "id": "86TyofQ_Kq2Z",
        "outputId": "022c1343-cc84-4622-a09b-a6ea93a0341c"
      },
      "execution_count": 43,
      "outputs": [
        {
          "output_type": "execute_result",
          "data": {
            "text/html": [
              "\n",
              "  <div id=\"df-74fbde0c-0a61-472c-a932-5c9f522d2120\">\n",
              "    <div class=\"colab-df-container\">\n",
              "      <div>\n",
              "<style scoped>\n",
              "    .dataframe tbody tr th:only-of-type {\n",
              "        vertical-align: middle;\n",
              "    }\n",
              "\n",
              "    .dataframe tbody tr th {\n",
              "        vertical-align: top;\n",
              "    }\n",
              "\n",
              "    .dataframe thead th {\n",
              "        text-align: right;\n",
              "    }\n",
              "</style>\n",
              "<table border=\"1\" class=\"dataframe\">\n",
              "  <thead>\n",
              "    <tr style=\"text-align: right;\">\n",
              "      <th></th>\n",
              "      <th>Unnamed: 0</th>\n",
              "      <th>Customer Id</th>\n",
              "      <th>Age</th>\n",
              "      <th>Edu</th>\n",
              "      <th>Years Employed</th>\n",
              "      <th>Income</th>\n",
              "      <th>Card Debt</th>\n",
              "      <th>Other Debt</th>\n",
              "      <th>Defaulted</th>\n",
              "      <th>DebtIncomeRatio</th>\n",
              "      <th>cluster</th>\n",
              "    </tr>\n",
              "  </thead>\n",
              "  <tbody>\n",
              "    <tr>\n",
              "      <th>0</th>\n",
              "      <td>0</td>\n",
              "      <td>1</td>\n",
              "      <td>41</td>\n",
              "      <td>2</td>\n",
              "      <td>6</td>\n",
              "      <td>19</td>\n",
              "      <td>0.124</td>\n",
              "      <td>1.073</td>\n",
              "      <td>0.0</td>\n",
              "      <td>6.3</td>\n",
              "      <td>1</td>\n",
              "    </tr>\n",
              "    <tr>\n",
              "      <th>1</th>\n",
              "      <td>1</td>\n",
              "      <td>2</td>\n",
              "      <td>47</td>\n",
              "      <td>1</td>\n",
              "      <td>26</td>\n",
              "      <td>100</td>\n",
              "      <td>4.582</td>\n",
              "      <td>8.218</td>\n",
              "      <td>0.0</td>\n",
              "      <td>12.8</td>\n",
              "      <td>2</td>\n",
              "    </tr>\n",
              "    <tr>\n",
              "      <th>2</th>\n",
              "      <td>2</td>\n",
              "      <td>3</td>\n",
              "      <td>33</td>\n",
              "      <td>2</td>\n",
              "      <td>10</td>\n",
              "      <td>57</td>\n",
              "      <td>6.111</td>\n",
              "      <td>5.802</td>\n",
              "      <td>1.0</td>\n",
              "      <td>20.9</td>\n",
              "      <td>2</td>\n",
              "    </tr>\n",
              "    <tr>\n",
              "      <th>3</th>\n",
              "      <td>3</td>\n",
              "      <td>4</td>\n",
              "      <td>29</td>\n",
              "      <td>2</td>\n",
              "      <td>4</td>\n",
              "      <td>19</td>\n",
              "      <td>0.681</td>\n",
              "      <td>0.516</td>\n",
              "      <td>0.0</td>\n",
              "      <td>6.3</td>\n",
              "      <td>1</td>\n",
              "    </tr>\n",
              "    <tr>\n",
              "      <th>4</th>\n",
              "      <td>4</td>\n",
              "      <td>5</td>\n",
              "      <td>47</td>\n",
              "      <td>1</td>\n",
              "      <td>31</td>\n",
              "      <td>253</td>\n",
              "      <td>9.308</td>\n",
              "      <td>8.908</td>\n",
              "      <td>0.0</td>\n",
              "      <td>7.2</td>\n",
              "      <td>2</td>\n",
              "    </tr>\n",
              "  </tbody>\n",
              "</table>\n",
              "</div>\n",
              "      <button class=\"colab-df-convert\" onclick=\"convertToInteractive('df-74fbde0c-0a61-472c-a932-5c9f522d2120')\"\n",
              "              title=\"Convert this dataframe to an interactive table.\"\n",
              "              style=\"display:none;\">\n",
              "        \n",
              "  <svg xmlns=\"http://www.w3.org/2000/svg\" height=\"24px\"viewBox=\"0 0 24 24\"\n",
              "       width=\"24px\">\n",
              "    <path d=\"M0 0h24v24H0V0z\" fill=\"none\"/>\n",
              "    <path d=\"M18.56 5.44l.94 2.06.94-2.06 2.06-.94-2.06-.94-.94-2.06-.94 2.06-2.06.94zm-11 1L8.5 8.5l.94-2.06 2.06-.94-2.06-.94L8.5 2.5l-.94 2.06-2.06.94zm10 10l.94 2.06.94-2.06 2.06-.94-2.06-.94-.94-2.06-.94 2.06-2.06.94z\"/><path d=\"M17.41 7.96l-1.37-1.37c-.4-.4-.92-.59-1.43-.59-.52 0-1.04.2-1.43.59L10.3 9.45l-7.72 7.72c-.78.78-.78 2.05 0 2.83L4 21.41c.39.39.9.59 1.41.59.51 0 1.02-.2 1.41-.59l7.78-7.78 2.81-2.81c.8-.78.8-2.07 0-2.86zM5.41 20L4 18.59l7.72-7.72 1.47 1.35L5.41 20z\"/>\n",
              "  </svg>\n",
              "      </button>\n",
              "      \n",
              "  <style>\n",
              "    .colab-df-container {\n",
              "      display:flex;\n",
              "      flex-wrap:wrap;\n",
              "      gap: 12px;\n",
              "    }\n",
              "\n",
              "    .colab-df-convert {\n",
              "      background-color: #E8F0FE;\n",
              "      border: none;\n",
              "      border-radius: 50%;\n",
              "      cursor: pointer;\n",
              "      display: none;\n",
              "      fill: #1967D2;\n",
              "      height: 32px;\n",
              "      padding: 0 0 0 0;\n",
              "      width: 32px;\n",
              "    }\n",
              "\n",
              "    .colab-df-convert:hover {\n",
              "      background-color: #E2EBFA;\n",
              "      box-shadow: 0px 1px 2px rgba(60, 64, 67, 0.3), 0px 1px 3px 1px rgba(60, 64, 67, 0.15);\n",
              "      fill: #174EA6;\n",
              "    }\n",
              "\n",
              "    [theme=dark] .colab-df-convert {\n",
              "      background-color: #3B4455;\n",
              "      fill: #D2E3FC;\n",
              "    }\n",
              "\n",
              "    [theme=dark] .colab-df-convert:hover {\n",
              "      background-color: #434B5C;\n",
              "      box-shadow: 0px 1px 3px 1px rgba(0, 0, 0, 0.15);\n",
              "      filter: drop-shadow(0px 1px 2px rgba(0, 0, 0, 0.3));\n",
              "      fill: #FFFFFF;\n",
              "    }\n",
              "  </style>\n",
              "\n",
              "      <script>\n",
              "        const buttonEl =\n",
              "          document.querySelector('#df-74fbde0c-0a61-472c-a932-5c9f522d2120 button.colab-df-convert');\n",
              "        buttonEl.style.display =\n",
              "          google.colab.kernel.accessAllowed ? 'block' : 'none';\n",
              "\n",
              "        async function convertToInteractive(key) {\n",
              "          const element = document.querySelector('#df-74fbde0c-0a61-472c-a932-5c9f522d2120');\n",
              "          const dataTable =\n",
              "            await google.colab.kernel.invokeFunction('convertToInteractive',\n",
              "                                                     [key], {});\n",
              "          if (!dataTable) return;\n",
              "\n",
              "          const docLinkHtml = 'Like what you see? Visit the ' +\n",
              "            '<a target=\"_blank\" href=https://colab.research.google.com/notebooks/data_table.ipynb>data table notebook</a>'\n",
              "            + ' to learn more about interactive tables.';\n",
              "          element.innerHTML = '';\n",
              "          dataTable['output_type'] = 'display_data';\n",
              "          await google.colab.output.renderOutput(dataTable, element);\n",
              "          const docLink = document.createElement('div');\n",
              "          docLink.innerHTML = docLinkHtml;\n",
              "          element.appendChild(docLink);\n",
              "        }\n",
              "      </script>\n",
              "    </div>\n",
              "  </div>\n",
              "  "
            ],
            "text/plain": [
              "   Unnamed: 0  Customer Id  Age  ...  Defaulted  DebtIncomeRatio  cluster\n",
              "0           0            1   41  ...        0.0              6.3        1\n",
              "1           1            2   47  ...        0.0             12.8        2\n",
              "2           2            3   33  ...        1.0             20.9        2\n",
              "3           3            4   29  ...        0.0              6.3        1\n",
              "4           4            5   47  ...        0.0              7.2        2\n",
              "\n",
              "[5 rows x 11 columns]"
            ]
          },
          "metadata": {},
          "execution_count": 43
        }
      ]
    },
    {
      "cell_type": "code",
      "source": [
        "# Fit kmeans model with 2 clusters and display the silhouette score\n",
        "silhouette_score(X_scaled, kmeans.labels_)"
      ],
      "metadata": {
        "colab": {
          "base_uri": "https://localhost:8080/"
        },
        "id": "VEcqAiM0X1by",
        "outputId": "a8f16f14-6cd1-45d4-ebfb-7ea1849f3daa"
      },
      "execution_count": 72,
      "outputs": [
        {
          "output_type": "execute_result",
          "data": {
            "text/plain": [
              "0.1850419416307881"
            ]
          },
          "metadata": {},
          "execution_count": 72
        }
      ]
    },
    {
      "cell_type": "markdown",
      "source": [
        "# DBSCAN"
      ],
      "metadata": {
        "id": "oCnBnBXthG-A"
      }
    },
    {
      "cell_type": "code",
      "source": [
        "dbs = DBSCAN(eps = 0.5, min_samples = 3).fit(X_scaled)"
      ],
      "metadata": {
        "id": "ygxs5ph0aPb9"
      },
      "execution_count": 82,
      "outputs": []
    },
    {
      "cell_type": "code",
      "source": [
        "X['cluster'] = dbs.labels_\n",
        "X.head()"
      ],
      "metadata": {
        "colab": {
          "base_uri": "https://localhost:8080/",
          "height": 206
        },
        "id": "xHl3Xk0ngob6",
        "outputId": "4de6077a-4041-4eef-c42e-f4f0311557f2"
      },
      "execution_count": 75,
      "outputs": [
        {
          "output_type": "execute_result",
          "data": {
            "text/html": [
              "\n",
              "  <div id=\"df-ce376f31-a4d8-469d-89d7-c7a3b8f48e06\">\n",
              "    <div class=\"colab-df-container\">\n",
              "      <div>\n",
              "<style scoped>\n",
              "    .dataframe tbody tr th:only-of-type {\n",
              "        vertical-align: middle;\n",
              "    }\n",
              "\n",
              "    .dataframe tbody tr th {\n",
              "        vertical-align: top;\n",
              "    }\n",
              "\n",
              "    .dataframe thead th {\n",
              "        text-align: right;\n",
              "    }\n",
              "</style>\n",
              "<table border=\"1\" class=\"dataframe\">\n",
              "  <thead>\n",
              "    <tr style=\"text-align: right;\">\n",
              "      <th></th>\n",
              "      <th>Unnamed: 0</th>\n",
              "      <th>Customer Id</th>\n",
              "      <th>Age</th>\n",
              "      <th>Edu</th>\n",
              "      <th>Years Employed</th>\n",
              "      <th>Income</th>\n",
              "      <th>Card Debt</th>\n",
              "      <th>Other Debt</th>\n",
              "      <th>Defaulted</th>\n",
              "      <th>DebtIncomeRatio</th>\n",
              "      <th>cluster</th>\n",
              "    </tr>\n",
              "  </thead>\n",
              "  <tbody>\n",
              "    <tr>\n",
              "      <th>0</th>\n",
              "      <td>0</td>\n",
              "      <td>1</td>\n",
              "      <td>41</td>\n",
              "      <td>2</td>\n",
              "      <td>6</td>\n",
              "      <td>19</td>\n",
              "      <td>0.124</td>\n",
              "      <td>1.073</td>\n",
              "      <td>0.0</td>\n",
              "      <td>6.3</td>\n",
              "      <td>-1</td>\n",
              "    </tr>\n",
              "    <tr>\n",
              "      <th>1</th>\n",
              "      <td>1</td>\n",
              "      <td>2</td>\n",
              "      <td>47</td>\n",
              "      <td>1</td>\n",
              "      <td>26</td>\n",
              "      <td>100</td>\n",
              "      <td>4.582</td>\n",
              "      <td>8.218</td>\n",
              "      <td>0.0</td>\n",
              "      <td>12.8</td>\n",
              "      <td>-1</td>\n",
              "    </tr>\n",
              "    <tr>\n",
              "      <th>2</th>\n",
              "      <td>2</td>\n",
              "      <td>3</td>\n",
              "      <td>33</td>\n",
              "      <td>2</td>\n",
              "      <td>10</td>\n",
              "      <td>57</td>\n",
              "      <td>6.111</td>\n",
              "      <td>5.802</td>\n",
              "      <td>1.0</td>\n",
              "      <td>20.9</td>\n",
              "      <td>-1</td>\n",
              "    </tr>\n",
              "    <tr>\n",
              "      <th>3</th>\n",
              "      <td>3</td>\n",
              "      <td>4</td>\n",
              "      <td>29</td>\n",
              "      <td>2</td>\n",
              "      <td>4</td>\n",
              "      <td>19</td>\n",
              "      <td>0.681</td>\n",
              "      <td>0.516</td>\n",
              "      <td>0.0</td>\n",
              "      <td>6.3</td>\n",
              "      <td>-1</td>\n",
              "    </tr>\n",
              "    <tr>\n",
              "      <th>4</th>\n",
              "      <td>4</td>\n",
              "      <td>5</td>\n",
              "      <td>47</td>\n",
              "      <td>1</td>\n",
              "      <td>31</td>\n",
              "      <td>253</td>\n",
              "      <td>9.308</td>\n",
              "      <td>8.908</td>\n",
              "      <td>0.0</td>\n",
              "      <td>7.2</td>\n",
              "      <td>-1</td>\n",
              "    </tr>\n",
              "  </tbody>\n",
              "</table>\n",
              "</div>\n",
              "      <button class=\"colab-df-convert\" onclick=\"convertToInteractive('df-ce376f31-a4d8-469d-89d7-c7a3b8f48e06')\"\n",
              "              title=\"Convert this dataframe to an interactive table.\"\n",
              "              style=\"display:none;\">\n",
              "        \n",
              "  <svg xmlns=\"http://www.w3.org/2000/svg\" height=\"24px\"viewBox=\"0 0 24 24\"\n",
              "       width=\"24px\">\n",
              "    <path d=\"M0 0h24v24H0V0z\" fill=\"none\"/>\n",
              "    <path d=\"M18.56 5.44l.94 2.06.94-2.06 2.06-.94-2.06-.94-.94-2.06-.94 2.06-2.06.94zm-11 1L8.5 8.5l.94-2.06 2.06-.94-2.06-.94L8.5 2.5l-.94 2.06-2.06.94zm10 10l.94 2.06.94-2.06 2.06-.94-2.06-.94-.94-2.06-.94 2.06-2.06.94z\"/><path d=\"M17.41 7.96l-1.37-1.37c-.4-.4-.92-.59-1.43-.59-.52 0-1.04.2-1.43.59L10.3 9.45l-7.72 7.72c-.78.78-.78 2.05 0 2.83L4 21.41c.39.39.9.59 1.41.59.51 0 1.02-.2 1.41-.59l7.78-7.78 2.81-2.81c.8-.78.8-2.07 0-2.86zM5.41 20L4 18.59l7.72-7.72 1.47 1.35L5.41 20z\"/>\n",
              "  </svg>\n",
              "      </button>\n",
              "      \n",
              "  <style>\n",
              "    .colab-df-container {\n",
              "      display:flex;\n",
              "      flex-wrap:wrap;\n",
              "      gap: 12px;\n",
              "    }\n",
              "\n",
              "    .colab-df-convert {\n",
              "      background-color: #E8F0FE;\n",
              "      border: none;\n",
              "      border-radius: 50%;\n",
              "      cursor: pointer;\n",
              "      display: none;\n",
              "      fill: #1967D2;\n",
              "      height: 32px;\n",
              "      padding: 0 0 0 0;\n",
              "      width: 32px;\n",
              "    }\n",
              "\n",
              "    .colab-df-convert:hover {\n",
              "      background-color: #E2EBFA;\n",
              "      box-shadow: 0px 1px 2px rgba(60, 64, 67, 0.3), 0px 1px 3px 1px rgba(60, 64, 67, 0.15);\n",
              "      fill: #174EA6;\n",
              "    }\n",
              "\n",
              "    [theme=dark] .colab-df-convert {\n",
              "      background-color: #3B4455;\n",
              "      fill: #D2E3FC;\n",
              "    }\n",
              "\n",
              "    [theme=dark] .colab-df-convert:hover {\n",
              "      background-color: #434B5C;\n",
              "      box-shadow: 0px 1px 3px 1px rgba(0, 0, 0, 0.15);\n",
              "      filter: drop-shadow(0px 1px 2px rgba(0, 0, 0, 0.3));\n",
              "      fill: #FFFFFF;\n",
              "    }\n",
              "  </style>\n",
              "\n",
              "      <script>\n",
              "        const buttonEl =\n",
              "          document.querySelector('#df-ce376f31-a4d8-469d-89d7-c7a3b8f48e06 button.colab-df-convert');\n",
              "        buttonEl.style.display =\n",
              "          google.colab.kernel.accessAllowed ? 'block' : 'none';\n",
              "\n",
              "        async function convertToInteractive(key) {\n",
              "          const element = document.querySelector('#df-ce376f31-a4d8-469d-89d7-c7a3b8f48e06');\n",
              "          const dataTable =\n",
              "            await google.colab.kernel.invokeFunction('convertToInteractive',\n",
              "                                                     [key], {});\n",
              "          if (!dataTable) return;\n",
              "\n",
              "          const docLinkHtml = 'Like what you see? Visit the ' +\n",
              "            '<a target=\"_blank\" href=https://colab.research.google.com/notebooks/data_table.ipynb>data table notebook</a>'\n",
              "            + ' to learn more about interactive tables.';\n",
              "          element.innerHTML = '';\n",
              "          dataTable['output_type'] = 'display_data';\n",
              "          await google.colab.output.renderOutput(dataTable, element);\n",
              "          const docLink = document.createElement('div');\n",
              "          docLink.innerHTML = docLinkHtml;\n",
              "          element.appendChild(docLink);\n",
              "        }\n",
              "      </script>\n",
              "    </div>\n",
              "  </div>\n",
              "  "
            ],
            "text/plain": [
              "   Unnamed: 0  Customer Id  Age  ...  Defaulted  DebtIncomeRatio  cluster\n",
              "0           0            1   41  ...        0.0              6.3       -1\n",
              "1           1            2   47  ...        0.0             12.8       -1\n",
              "2           2            3   33  ...        1.0             20.9       -1\n",
              "3           3            4   29  ...        0.0              6.3       -1\n",
              "4           4            5   47  ...        0.0              7.2       -1\n",
              "\n",
              "[5 rows x 11 columns]"
            ]
          },
          "metadata": {},
          "execution_count": 75
        }
      ]
    },
    {
      "cell_type": "code",
      "source": [
        "# See DBSCAN silhouette score\n",
        "silhouette_score(X_scaled, dbs.labels_)"
      ],
      "metadata": {
        "colab": {
          "base_uri": "https://localhost:8080/"
        },
        "id": "9mtwxZZWguGp",
        "outputId": "2bae751b-9a9f-4bf2-a7ba-97d04bf11465"
      },
      "execution_count": 83,
      "outputs": [
        {
          "output_type": "execute_result",
          "data": {
            "text/plain": [
              "-0.37299585853492095"
            ]
          },
          "metadata": {},
          "execution_count": 83
        }
      ]
    },
    {
      "cell_type": "markdown",
      "source": [
        "# HIERARCHICAL CLUSTERING"
      ],
      "metadata": {
        "id": "p0MzMcOThuQR"
      }
    },
    {
      "cell_type": "code",
      "source": [
        "# See Hierarchical clustering silhouette score\n",
        "hc = AgglomerativeClustering(n_clusters = 2)\n",
        "hc.fit(X_scaled)"
      ],
      "metadata": {
        "colab": {
          "base_uri": "https://localhost:8080/"
        },
        "id": "y7nGw9cuZkjE",
        "outputId": "3f88db46-f444-42bb-a649-54ca8a9521a5"
      },
      "execution_count": 85,
      "outputs": [
        {
          "output_type": "execute_result",
          "data": {
            "text/plain": [
              "AgglomerativeClustering()"
            ]
          },
          "metadata": {},
          "execution_count": 85
        }
      ]
    },
    {
      "cell_type": "code",
      "source": [
        "X['cluster'] = hc.labels_\n",
        "X.head()"
      ],
      "metadata": {
        "colab": {
          "base_uri": "https://localhost:8080/",
          "height": 206
        },
        "id": "VGtoEsVEhrTC",
        "outputId": "7589bb95-8342-4572-9c23-ba0a3f4387e3"
      },
      "execution_count": 86,
      "outputs": [
        {
          "output_type": "execute_result",
          "data": {
            "text/html": [
              "\n",
              "  <div id=\"df-f8486411-5f75-43fc-a154-d7a6e6ef96e3\">\n",
              "    <div class=\"colab-df-container\">\n",
              "      <div>\n",
              "<style scoped>\n",
              "    .dataframe tbody tr th:only-of-type {\n",
              "        vertical-align: middle;\n",
              "    }\n",
              "\n",
              "    .dataframe tbody tr th {\n",
              "        vertical-align: top;\n",
              "    }\n",
              "\n",
              "    .dataframe thead th {\n",
              "        text-align: right;\n",
              "    }\n",
              "</style>\n",
              "<table border=\"1\" class=\"dataframe\">\n",
              "  <thead>\n",
              "    <tr style=\"text-align: right;\">\n",
              "      <th></th>\n",
              "      <th>Unnamed: 0</th>\n",
              "      <th>Customer Id</th>\n",
              "      <th>Age</th>\n",
              "      <th>Edu</th>\n",
              "      <th>Years Employed</th>\n",
              "      <th>Income</th>\n",
              "      <th>Card Debt</th>\n",
              "      <th>Other Debt</th>\n",
              "      <th>Defaulted</th>\n",
              "      <th>DebtIncomeRatio</th>\n",
              "      <th>cluster</th>\n",
              "    </tr>\n",
              "  </thead>\n",
              "  <tbody>\n",
              "    <tr>\n",
              "      <th>0</th>\n",
              "      <td>0</td>\n",
              "      <td>1</td>\n",
              "      <td>41</td>\n",
              "      <td>2</td>\n",
              "      <td>6</td>\n",
              "      <td>19</td>\n",
              "      <td>0.124</td>\n",
              "      <td>1.073</td>\n",
              "      <td>0.0</td>\n",
              "      <td>6.3</td>\n",
              "      <td>0</td>\n",
              "    </tr>\n",
              "    <tr>\n",
              "      <th>1</th>\n",
              "      <td>1</td>\n",
              "      <td>2</td>\n",
              "      <td>47</td>\n",
              "      <td>1</td>\n",
              "      <td>26</td>\n",
              "      <td>100</td>\n",
              "      <td>4.582</td>\n",
              "      <td>8.218</td>\n",
              "      <td>0.0</td>\n",
              "      <td>12.8</td>\n",
              "      <td>1</td>\n",
              "    </tr>\n",
              "    <tr>\n",
              "      <th>2</th>\n",
              "      <td>2</td>\n",
              "      <td>3</td>\n",
              "      <td>33</td>\n",
              "      <td>2</td>\n",
              "      <td>10</td>\n",
              "      <td>57</td>\n",
              "      <td>6.111</td>\n",
              "      <td>5.802</td>\n",
              "      <td>1.0</td>\n",
              "      <td>20.9</td>\n",
              "      <td>1</td>\n",
              "    </tr>\n",
              "    <tr>\n",
              "      <th>3</th>\n",
              "      <td>3</td>\n",
              "      <td>4</td>\n",
              "      <td>29</td>\n",
              "      <td>2</td>\n",
              "      <td>4</td>\n",
              "      <td>19</td>\n",
              "      <td>0.681</td>\n",
              "      <td>0.516</td>\n",
              "      <td>0.0</td>\n",
              "      <td>6.3</td>\n",
              "      <td>0</td>\n",
              "    </tr>\n",
              "    <tr>\n",
              "      <th>4</th>\n",
              "      <td>4</td>\n",
              "      <td>5</td>\n",
              "      <td>47</td>\n",
              "      <td>1</td>\n",
              "      <td>31</td>\n",
              "      <td>253</td>\n",
              "      <td>9.308</td>\n",
              "      <td>8.908</td>\n",
              "      <td>0.0</td>\n",
              "      <td>7.2</td>\n",
              "      <td>1</td>\n",
              "    </tr>\n",
              "  </tbody>\n",
              "</table>\n",
              "</div>\n",
              "      <button class=\"colab-df-convert\" onclick=\"convertToInteractive('df-f8486411-5f75-43fc-a154-d7a6e6ef96e3')\"\n",
              "              title=\"Convert this dataframe to an interactive table.\"\n",
              "              style=\"display:none;\">\n",
              "        \n",
              "  <svg xmlns=\"http://www.w3.org/2000/svg\" height=\"24px\"viewBox=\"0 0 24 24\"\n",
              "       width=\"24px\">\n",
              "    <path d=\"M0 0h24v24H0V0z\" fill=\"none\"/>\n",
              "    <path d=\"M18.56 5.44l.94 2.06.94-2.06 2.06-.94-2.06-.94-.94-2.06-.94 2.06-2.06.94zm-11 1L8.5 8.5l.94-2.06 2.06-.94-2.06-.94L8.5 2.5l-.94 2.06-2.06.94zm10 10l.94 2.06.94-2.06 2.06-.94-2.06-.94-.94-2.06-.94 2.06-2.06.94z\"/><path d=\"M17.41 7.96l-1.37-1.37c-.4-.4-.92-.59-1.43-.59-.52 0-1.04.2-1.43.59L10.3 9.45l-7.72 7.72c-.78.78-.78 2.05 0 2.83L4 21.41c.39.39.9.59 1.41.59.51 0 1.02-.2 1.41-.59l7.78-7.78 2.81-2.81c.8-.78.8-2.07 0-2.86zM5.41 20L4 18.59l7.72-7.72 1.47 1.35L5.41 20z\"/>\n",
              "  </svg>\n",
              "      </button>\n",
              "      \n",
              "  <style>\n",
              "    .colab-df-container {\n",
              "      display:flex;\n",
              "      flex-wrap:wrap;\n",
              "      gap: 12px;\n",
              "    }\n",
              "\n",
              "    .colab-df-convert {\n",
              "      background-color: #E8F0FE;\n",
              "      border: none;\n",
              "      border-radius: 50%;\n",
              "      cursor: pointer;\n",
              "      display: none;\n",
              "      fill: #1967D2;\n",
              "      height: 32px;\n",
              "      padding: 0 0 0 0;\n",
              "      width: 32px;\n",
              "    }\n",
              "\n",
              "    .colab-df-convert:hover {\n",
              "      background-color: #E2EBFA;\n",
              "      box-shadow: 0px 1px 2px rgba(60, 64, 67, 0.3), 0px 1px 3px 1px rgba(60, 64, 67, 0.15);\n",
              "      fill: #174EA6;\n",
              "    }\n",
              "\n",
              "    [theme=dark] .colab-df-convert {\n",
              "      background-color: #3B4455;\n",
              "      fill: #D2E3FC;\n",
              "    }\n",
              "\n",
              "    [theme=dark] .colab-df-convert:hover {\n",
              "      background-color: #434B5C;\n",
              "      box-shadow: 0px 1px 3px 1px rgba(0, 0, 0, 0.15);\n",
              "      filter: drop-shadow(0px 1px 2px rgba(0, 0, 0, 0.3));\n",
              "      fill: #FFFFFF;\n",
              "    }\n",
              "  </style>\n",
              "\n",
              "      <script>\n",
              "        const buttonEl =\n",
              "          document.querySelector('#df-f8486411-5f75-43fc-a154-d7a6e6ef96e3 button.colab-df-convert');\n",
              "        buttonEl.style.display =\n",
              "          google.colab.kernel.accessAllowed ? 'block' : 'none';\n",
              "\n",
              "        async function convertToInteractive(key) {\n",
              "          const element = document.querySelector('#df-f8486411-5f75-43fc-a154-d7a6e6ef96e3');\n",
              "          const dataTable =\n",
              "            await google.colab.kernel.invokeFunction('convertToInteractive',\n",
              "                                                     [key], {});\n",
              "          if (!dataTable) return;\n",
              "\n",
              "          const docLinkHtml = 'Like what you see? Visit the ' +\n",
              "            '<a target=\"_blank\" href=https://colab.research.google.com/notebooks/data_table.ipynb>data table notebook</a>'\n",
              "            + ' to learn more about interactive tables.';\n",
              "          element.innerHTML = '';\n",
              "          dataTable['output_type'] = 'display_data';\n",
              "          await google.colab.output.renderOutput(dataTable, element);\n",
              "          const docLink = document.createElement('div');\n",
              "          docLink.innerHTML = docLinkHtml;\n",
              "          element.appendChild(docLink);\n",
              "        }\n",
              "      </script>\n",
              "    </div>\n",
              "  </div>\n",
              "  "
            ],
            "text/plain": [
              "   Unnamed: 0  Customer Id  Age  ...  Defaulted  DebtIncomeRatio  cluster\n",
              "0           0            1   41  ...        0.0              6.3        0\n",
              "1           1            2   47  ...        0.0             12.8        1\n",
              "2           2            3   33  ...        1.0             20.9        1\n",
              "3           3            4   29  ...        0.0              6.3        0\n",
              "4           4            5   47  ...        0.0              7.2        1\n",
              "\n",
              "[5 rows x 11 columns]"
            ]
          },
          "metadata": {},
          "execution_count": 86
        }
      ]
    },
    {
      "cell_type": "code",
      "source": [
        "silhouette_score(X_scaled, hc.labels_)"
      ],
      "metadata": {
        "colab": {
          "base_uri": "https://localhost:8080/"
        },
        "id": "g__i1d6Whdeh",
        "outputId": "7629f6ab-fff3-4e30-8f55-e0216c4fcb22"
      },
      "execution_count": 87,
      "outputs": [
        {
          "output_type": "execute_result",
          "data": {
            "text/plain": [
              "0.24026823267633338"
            ]
          },
          "metadata": {},
          "execution_count": 87
        }
      ]
    },
    {
      "cell_type": "code",
      "source": [
        "plt.scatter(X['Age'], X['Income'], c = X['cluster'])\n",
        "plt.xlabel('Age')\n",
        "plt.ylabel('Income')\n",
        "plt.title('Clusters');"
      ],
      "metadata": {
        "colab": {
          "base_uri": "https://localhost:8080/",
          "height": 295
        },
        "id": "WdHjfRZFKvUq",
        "outputId": "c971921c-83ef-40c5-e5f0-b1210c3f6187"
      },
      "execution_count": 44,
      "outputs": [
        {
          "output_type": "display_data",
          "data": {
            "image/png": "[encoded data removed]",
            "text/plain": [
              "<Figure size 432x288 with 1 Axes>"
            ]
          },
          "metadata": {
            "needs_background": "light"
          }
        }
      ]
    },
    {
      "cell_type": "code",
      "source": [
        "fig = plt.figure(1)\n",
        "plt.clf()\n",
        "ax = Axes3D(fig, \n",
        "            rect = [0, 0, .95, 1], \n",
        "            elev = 48, \n",
        "            azim = 134)\n",
        "\n",
        "plt.cla()\n",
        "ax.scatter(X['Edu'], X['Age'], X['Income'], \n",
        "           c = X['cluster'], \n",
        "           s = 200, \n",
        "           cmap = 'spring', \n",
        "           alpha = 0.5, \n",
        "           edgecolor = 'darkgrey')\n",
        "ax.set_xlabel('Education', \n",
        "              fontsize = 16)\n",
        "ax.set_ylabel('Age', \n",
        "              fontsize = 16)\n",
        "ax.set_zlabel('Income', \n",
        "              fontsize = 16)\n",
        "\n",
        "plt.savefig('3d_plot.png')\n",
        "plt.show()"
      ],
      "metadata": {
        "colab": {
          "base_uri": "https://localhost:8080/",
          "height": 319
        },
        "id": "OE0NzSA4PxwP",
        "outputId": "50fd6be4-5f1e-4e30-f9fe-538ee5e39e1e"
      },
      "execution_count": 45,
      "outputs": [
        {
          "output_type": "display_data",
          "data": {
            "image/png": "[encoded data removed]",
            "text/plain": [
              "<Figure size 432x288 with 1 Axes>"
            ]
          },
          "metadata": {
            "needs_background": "light"
          }
        }
      ]
    },
    {
      "cell_type": "code",
      "source": [
        "# Credit card default cases\n",
        "\n",
        "default = df[df['Defaulted'] == 1.0]\n",
        "non_default = df[df['Defaulted'] == 0.0]\n",
        "\n",
        "print(cl('.......................................', attrs = ['bold']))\n",
        "print(cl('Number of Default cases are {}'.format(len(default)), attrs = ['bold']))\n",
        "print(cl('.......................................', attrs = ['bold']))\n",
        "print(cl('Number of Non-Default cases are {}'.format(len(non_default)), attrs = ['bold']))\n",
        "print(cl('.......................................', attrs = ['bold']))\n",
        "print(cl('Percentage of Default cases is {:.0%}'.format(len(default)/len(non_default)), attrs = ['bold']))\n",
        "print(cl('.......................................', attrs = ['bold']))\n",
        "\n",
        "sb.countplot(df['Defaulted'], \n",
        "             palette = ['coral', 'deepskyblue'], \n",
        "             edgecolor = 'darkgrey')\n",
        "plt.title('Credit card default cases(1) and non-default cases(0)', \n",
        "          fontsize = 18)\n",
        "plt.xlabel('Default value', \n",
        "           fontsize = 16)\n",
        "plt.ylabel('Number of People', \n",
        "           fontsize = 16)\n",
        "plt.xticks(fontsize = 14)\n",
        "plt.yticks(fontsize = 14)\n",
        "\n",
        "plt.savefig('default_cases.png')\n",
        "plt.show()"
      ],
      "metadata": {
        "colab": {
          "base_uri": "https://localhost:8080/",
          "height": 492
        },
        "id": "--dMz5Dujnyp",
        "outputId": "9f989b1f-4bdb-4eba-d572-f0f12459cf95"
      },
      "execution_count": 88,
      "outputs": [
        {
          "output_type": "stream",
          "name": "stdout",
          "text": [
            "\u001b[1m.......................................\u001b[0m\n",
            "\u001b[1mNumber of Default cases are 183\u001b[0m\n",
            "\u001b[1m.......................................\u001b[0m\n",
            "\u001b[1mNumber of Non-Default cases are 517\u001b[0m\n",
            "\u001b[1m.......................................\u001b[0m\n",
            "\u001b[1mPercentage of Default cases is 35%\u001b[0m\n",
            "\u001b[1m.......................................\u001b[0m\n"
          ]
        },
        {
          "output_type": "stream",
          "name": "stderr",
          "text": [
            "/usr/local/lib/python3.7/dist-packages/seaborn/_decorators.py:43: FutureWarning: Pass the following variable as a keyword arg: x. From version 0.12, the only valid positional argument will be `data`, and passing other arguments without an explicit keyword will result in an error or misinterpretation.\n",
            "  FutureWarning\n"
          ]
        },
        {
          "output_type": "display_data",
          "data": {
            "image/png": "[encoded data removed]",
            "text/plain": [
              "<Figure size 432x288 with 1 Axes>"
            ]
          },
          "metadata": {
            "needs_background": "light"
          }
        }
      ]
    },
    {
      "cell_type": "code",
      "source": [
        "# Age vs Income\n",
        "\n",
        "sb.scatterplot('Age', 'Income', \n",
        "               data = df, \n",
        "               color = 'deepskyblue', \n",
        "               s = 150, \n",
        "               alpha = 0.6, \n",
        "               edgecolor = 'b')\n",
        "plt.title('AGE / INCOME', \n",
        "          fontsize = 18)\n",
        "plt.xlabel('Age', \n",
        "           fontsize = 16)\n",
        "plt.ylabel('Income', \n",
        "           fontsize = 16)\n",
        "plt.xticks(fontsize = 14)\n",
        "plt.yticks(fontsize = 14)\n",
        "\n",
        "plt.savefig('age_income.png')\n",
        "plt.show()"
      ],
      "metadata": {
        "colab": {
          "base_uri": "https://localhost:8080/",
          "height": 365
        },
        "id": "ub6Phj62jzDB",
        "outputId": "01296b3f-01a2-47ad-828d-d97285db147d"
      },
      "execution_count": 89,
      "outputs": [
        {
          "output_type": "stream",
          "name": "stderr",
          "text": [
            "/usr/local/lib/python3.7/dist-packages/seaborn/_decorators.py:43: FutureWarning: Pass the following variables as keyword args: x, y. From version 0.12, the only valid positional argument will be `data`, and passing other arguments without an explicit keyword will result in an error or misinterpretation.\n",
            "  FutureWarning\n"
          ]
        },
        {
          "output_type": "display_data",
          "data": {
            "image/png": "[encoded data removed]",
            "text/plain": [
              "<Figure size 432x288 with 1 Axes>"
            ]
          },
          "metadata": {
            "needs_background": "light"
          }
        }
      ]
    },
    {
      "cell_type": "markdown",
      "source": [
        "The HC clustering algorithm is best since it produced a high score compared to the other clustering algorithm based in the dataset used for the clustered modelling."
      ],
      "metadata": {
        "id": "4SP5am-Kmli3"
      }
    }
  ]
}